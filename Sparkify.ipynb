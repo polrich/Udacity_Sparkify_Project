{
 "cells": [
  {
   "cell_type": "markdown",
   "metadata": {},
   "source": [
    "# Sparkify Project Workspace\n",
    "This workspace contains a tiny subset (128MB) of the full dataset available (12GB). Feel free to use this workspace to build your project, or to explore a smaller subset with Spark before deploying your cluster on the cloud. Instructions for setting up your Spark cluster is included in the last lesson of the Extracurricular Spark Course content.\n",
    "\n",
    "You can follow the steps below to guide your data analysis and model building portion of this project."
   ]
  },
  {
   "cell_type": "code",
   "execution_count": 1,
   "metadata": {},
   "outputs": [],
   "source": [
    "# import libraries\n",
    "from pyspark.sql import SparkSession\n",
    "from pyspark.sql import functions as F\n",
    "from pyspark.sql import types as T\n",
    "from pyspark.sql import Window\n",
    "\n",
    "from pyspark.ml import Pipeline\n",
    "from pyspark.ml.classification import LogisticRegression, RandomForestClassifier, GBTClassifier, DecisionTreeClassifier, NaiveBayes\n",
    "from pyspark.ml.evaluation import MulticlassClassificationEvaluator, BinaryClassificationEvaluator\n",
    "from pyspark.ml.feature import CountVectorizer, IDF, Normalizer, PCA, RegexTokenizer, StandardScaler, StopWordsRemover, StringIndexer, VectorAssembler\n",
    "from pyspark.ml.regression import LinearRegression\n",
    "from pyspark.ml.tuning import CrossValidator, ParamGridBuilder\n",
    "\n",
    "import re\n",
    "import datetime\n",
    "import matplotlib.pyplot as plt\n",
    "import pandas as pd\n",
    "import seaborn as sns\n",
    "#\n",
    "from pyspark.sql.functions import to_timestamp"
   ]
  },
  {
   "cell_type": "code",
   "execution_count": 2,
   "metadata": {},
   "outputs": [],
   "source": [
    "# create a Spark session\n",
    "spark = SparkSession \\\n",
    "    .builder \\\n",
    "    .appName(\"Sparkify\") \\\n",
    "    .getOrCreate()"
   ]
  },
  {
   "cell_type": "markdown",
   "metadata": {},
   "source": [
    "# Load and Clean Dataset\n",
    "In this workspace, the mini-dataset file is `mini_sparkify_event_data.json`. Load and clean the dataset, checking for invalid or missing data - for example, records without userids or sessionids. "
   ]
  },
  {
   "cell_type": "code",
   "execution_count": 3,
   "metadata": {},
   "outputs": [],
   "source": [
    "# load the data into spark df\n",
    "\n",
    "data_path = 'mini_sparkify_event_data.json'\n",
    "df = spark.read.json(data_path)\n",
    "# df.persist()"
   ]
  },
  {
   "cell_type": "code",
   "execution_count": 4,
   "metadata": {},
   "outputs": [
    {
     "name": "stdout",
     "output_type": "stream",
     "text": [
      "root\n",
      " |-- artist: string (nullable = true)\n",
      " |-- auth: string (nullable = true)\n",
      " |-- firstName: string (nullable = true)\n",
      " |-- gender: string (nullable = true)\n",
      " |-- itemInSession: long (nullable = true)\n",
      " |-- lastName: string (nullable = true)\n",
      " |-- length: double (nullable = true)\n",
      " |-- level: string (nullable = true)\n",
      " |-- location: string (nullable = true)\n",
      " |-- method: string (nullable = true)\n",
      " |-- page: string (nullable = true)\n",
      " |-- registration: long (nullable = true)\n",
      " |-- sessionId: long (nullable = true)\n",
      " |-- song: string (nullable = true)\n",
      " |-- status: long (nullable = true)\n",
      " |-- ts: long (nullable = true)\n",
      " |-- userAgent: string (nullable = true)\n",
      " |-- userId: string (nullable = true)\n",
      "\n"
     ]
    }
   ],
   "source": [
    "# explore the schema (which variables and their format)\n",
    "df.printSchema()"
   ]
  },
  {
   "cell_type": "code",
   "execution_count": 5,
   "metadata": {},
   "outputs": [
    {
     "data": {
      "text/plain": [
       "286500"
      ]
     },
     "execution_count": 5,
     "metadata": {},
     "output_type": "execute_result"
    }
   ],
   "source": [
    "# Rows in the dataset\n",
    "df.count()"
   ]
  },
  {
   "cell_type": "code",
   "execution_count": 6,
   "metadata": {},
   "outputs": [],
   "source": [
    "# convert ts to timedate\n",
    "df = df.withColumn(\"ts\", F.to_timestamp(F.col(\"ts\")/1000))"
   ]
  },
  {
   "cell_type": "code",
   "execution_count": 7,
   "metadata": {},
   "outputs": [
    {
     "name": "stdout",
     "output_type": "stream",
     "text": [
      "+-------------------+\n",
      "|ts                 |\n",
      "+-------------------+\n",
      "|2018-10-01 00:01:57|\n",
      "+-------------------+\n",
      "only showing top 1 row\n",
      "\n"
     ]
    }
   ],
   "source": [
    "# create new column from ts to have timestamps\n",
    "df.select(\"ts\").show(1, False)"
   ]
  },
  {
   "cell_type": "code",
   "execution_count": 8,
   "metadata": {},
   "outputs": [],
   "source": [
    "# convert userId to integer\n",
    "df = df.withColumn(\"userId\", F.col(\"userId\").cast('integer'))"
   ]
  },
  {
   "cell_type": "code",
   "execution_count": 9,
   "metadata": {},
   "outputs": [
    {
     "name": "stdout",
     "output_type": "stream",
     "text": [
      "Categorical columns: \n",
      "['artist', 'auth', 'firstName', 'gender', 'lastName', 'level', 'location', 'method', 'page', 'song', 'userAgent']\n",
      "\n",
      "\n",
      "Numerical columns: \n",
      "['itemInSession', 'length', 'registration', 'sessionId', 'status', 'ts', 'userId']\n"
     ]
    }
   ],
   "source": [
    "# it might come in handy to have the categorical and numerical columns collected by lists\n",
    "cat_cols = [col[0] for col in df.dtypes if col[1] == \"string\"]\n",
    "num_cols = [col[0] for col in df.dtypes if col[1] != \"string\"]\n",
    "\n",
    "print(\"Categorical columns: \")\n",
    "print(cat_cols)\n",
    "print(\"\\n\")\n",
    "print(\"Numerical columns: \")\n",
    "print(num_cols)"
   ]
  },
  {
   "cell_type": "code",
   "execution_count": 10,
   "metadata": {},
   "outputs": [
    {
     "name": "stdout",
     "output_type": "stream",
     "text": [
      "Null values in column [artist]: 58392\n",
      "Null values in column [firstName]: 8346\n",
      "Null values in column [gender]: 8346\n",
      "Null values in column [lastName]: 8346\n",
      "Null values in column [length]: 58392\n",
      "Null values in column [location]: 8346\n",
      "Null values in column [registration]: 8346\n",
      "Null values in column [song]: 58392\n",
      "Null values in column [userAgent]: 8346\n",
      "Null values in column [userId]: 8346\n"
     ]
    }
   ],
   "source": [
    "# check for null values for each column\n",
    "for col in df.columns:\n",
    "    counts = df.filter(F.col(col).isNull()).count()\n",
    "    if counts > 0:\n",
    "        print(f\"Null values in column [{col}]: {counts}\")"
   ]
  },
  {
   "cell_type": "code",
   "execution_count": 11,
   "metadata": {},
   "outputs": [
    {
     "data": {
      "text/plain": [
       "278154"
      ]
     },
     "execution_count": 11,
     "metadata": {},
     "output_type": "execute_result"
    }
   ],
   "source": [
    "# i suggest to drop first the 8.346 null values that are present in most columsn. \n",
    "# There remain 50.046 nulls for artist, length and song. \n",
    "df_clean = df.dropna(how = \"any\", subset  = [\"gender\"])\n",
    "df_clean.count()"
   ]
  },
  {
   "cell_type": "code",
   "execution_count": 12,
   "metadata": {},
   "outputs": [
    {
     "data": {
      "text/plain": [
       "278154"
      ]
     },
     "execution_count": 12,
     "metadata": {},
     "output_type": "execute_result"
    }
   ],
   "source": [
    "# remaining duplicates?\n",
    "df_clean.dropDuplicates().count()"
   ]
  },
  {
   "cell_type": "code",
   "execution_count": 13,
   "metadata": {},
   "outputs": [
    {
     "name": "stdout",
     "output_type": "stream",
     "text": [
      "+--------------+---------+---------+------+-------------+--------+---------+-----+---------------+------+--------+-------------+---------+---------+------+-------------------+------------------------------------------------------------------------+------+\n",
      "|artist        |auth     |firstName|gender|itemInSession|lastName|length   |level|location       |method|page    |registration |sessionId|song     |status|ts                 |userAgent                                                               |userId|\n",
      "+--------------+---------+---------+------+-------------+--------+---------+-----+---------------+------+--------+-------------+---------+---------+------+-------------------+------------------------------------------------------------------------+------+\n",
      "|Martha Tilston|Logged In|Colin    |M     |50           |Freeman |277.89016|paid |Bakersfield, CA|PUT   |NextSong|1538173362000|29       |Rockpools|200   |2018-10-01 00:01:57|Mozilla/5.0 (Windows NT 6.1; WOW64; rv:31.0) Gecko/20100101 Firefox/31.0|30    |\n",
      "+--------------+---------+---------+------+-------------+--------+---------+-----+---------------+------+--------+-------------+---------+---------+------+-------------------+------------------------------------------------------------------------+------+\n",
      "only showing top 1 row\n",
      "\n"
     ]
    }
   ],
   "source": [
    "# no duplicates\n",
    "# show one specific line\n",
    "df_clean.show(1, False)"
   ]
  },
  {
   "cell_type": "code",
   "execution_count": 14,
   "metadata": {},
   "outputs": [
    {
     "name": "stdout",
     "output_type": "stream",
     "text": [
      "+-------------------------+------+\n",
      "|page                     |count |\n",
      "+-------------------------+------+\n",
      "|Cancel                   |52    |\n",
      "|Submit Downgrade         |63    |\n",
      "|Thumbs Down              |2546  |\n",
      "|Home                     |10082 |\n",
      "|Downgrade                |2055  |\n",
      "|Roll Advert              |3933  |\n",
      "|Logout                   |3226  |\n",
      "|Save Settings            |310   |\n",
      "|Cancellation Confirmation|52    |\n",
      "|About                    |495   |\n",
      "|Settings                 |1514  |\n",
      "|Add to Playlist          |6526  |\n",
      "|Add Friend               |4277  |\n",
      "|NextSong                 |228108|\n",
      "|Thumbs Up                |12551 |\n",
      "|Help                     |1454  |\n",
      "|Upgrade                  |499   |\n",
      "|Error                    |252   |\n",
      "|Submit Upgrade           |159   |\n",
      "+-------------------------+------+\n",
      "\n"
     ]
    }
   ],
   "source": [
    "# inspect page values\n",
    "df_clean.groupBy([\"page\"]).count().show(truncate=False)"
   ]
  },
  {
   "cell_type": "code",
   "execution_count": 15,
   "metadata": {},
   "outputs": [
    {
     "name": "stdout",
     "output_type": "stream",
     "text": [
      "+------+------+\n",
      "|method|count |\n",
      "+------+------+\n",
      "|PUT   |257818|\n",
      "|GET   |20336 |\n",
      "+------+------+\n",
      "\n"
     ]
    }
   ],
   "source": [
    "# inspect method values\n",
    "df_clean.groupBy([\"method\"]).count().show(truncate=False)"
   ]
  },
  {
   "cell_type": "code",
   "execution_count": 16,
   "metadata": {},
   "outputs": [
    {
     "name": "stdout",
     "output_type": "stream",
     "text": [
      "+-----+------+\n",
      "|level|count |\n",
      "+-----+------+\n",
      "|free |55721 |\n",
      "|paid |222433|\n",
      "+-----+------+\n",
      "\n"
     ]
    }
   ],
   "source": [
    "# inspect level values\n",
    "df_clean.groupBy([\"level\"]).count().show(truncate=False)"
   ]
  },
  {
   "cell_type": "code",
   "execution_count": 17,
   "metadata": {},
   "outputs": [
    {
     "name": "stdout",
     "output_type": "stream",
     "text": [
      "+---------+------+\n",
      "|auth     |count |\n",
      "+---------+------+\n",
      "|Cancelled|52    |\n",
      "|Logged In|278102|\n",
      "+---------+------+\n",
      "\n"
     ]
    }
   ],
   "source": [
    "# inspect level values\n",
    "df_clean.groupBy([\"auth\"]).count().show(truncate=False)"
   ]
  },
  {
   "cell_type": "code",
   "execution_count": 18,
   "metadata": {},
   "outputs": [
    {
     "name": "stdout",
     "output_type": "stream",
     "text": [
      "First timestamp in dataset: 2018-10-01 00:01:57\n",
      "Last timestamp in dataset: 2018-12-03 01:11:16\n",
      "Time duration of dataset: 63 days, 1:09:19\n"
     ]
    }
   ],
   "source": [
    "# time period for cancellations:\n",
    "max_date = df_clean.agg({\"ts\": \"max\"}).collect()[0][0]\n",
    "min_date = df_clean.agg({\"ts\": \"min\"}).collect()[0][0]\n",
    "print(f\"First timestamp in dataset: {min_date}\")\n",
    "print(f\"Last timestamp in dataset: {max_date}\")\n",
    "print(f\"Time duration of dataset: {max_date-min_date}\")"
   ]
  },
  {
   "cell_type": "code",
   "execution_count": 19,
   "metadata": {},
   "outputs": [
    {
     "name": "stdout",
     "output_type": "stream",
     "text": [
      "Number of total users: 225\n"
     ]
    }
   ],
   "source": [
    "# get all user_id in the dataset as list\n",
    "userId_all = [row.userId for row in df_clean.select(\"userId\").dropDuplicates().collect()]\n",
    "n_userId_all = len(userId_all)\n",
    "print(f\"Number of total users: {n_userId_all}\")"
   ]
  },
  {
   "cell_type": "markdown",
   "metadata": {},
   "source": [
    "# Exploratory Data Analysis\n",
    "When you're working with the full dataset, perform EDA by loading a small subset of the data and doing basic manipulations within Spark. In this workspace, you are already provided a small subset of data you can explore.\n",
    "\n",
    "### Define Churn\n",
    "\n",
    "Once you've done some preliminary analysis, create a column `Churn` to use as the label for your model. I suggest using the `Cancellation Confirmation` events to define your churn, which happen for both paid and free users. As a bonus task, you can also look into the `Downgrade` events.\n",
    "\n",
    "### Explore Data\n",
    "Once you've defined churn, perform some exploratory data analysis to observe the behavior for users who stayed vs users who churned. You can start by exploring aggregates on these two groups of users, observing how much of a specific action they experienced per a certain time unit or number of songs played."
   ]
  },
  {
   "cell_type": "code",
   "execution_count": 20,
   "metadata": {},
   "outputs": [
    {
     "name": "stdout",
     "output_type": "stream",
     "text": [
      "Number of churned users: 52\n"
     ]
    }
   ],
   "source": [
    "# add column churn. churn =1 if for all rows with a given userId, if that user did at one time cancel\n",
    "userId_churned = df_clean.filter(df.page==\"Cancellation Confirmation\").select(\"userId\").dropDuplicates()\n",
    "userId_churned = [(row['userId']) for row in userId_churned.collect()]\n",
    "n_userId_churned = len(userId_churned)\n",
    "print(f\"Number of churned users: {n_userId_churned}\")\n",
    "df_clean = df_clean.withColumn(\"churn\", F.when(F.col(\"userId\").isin(userId_churned), 1).otherwise(0))"
   ]
  },
  {
   "cell_type": "code",
   "execution_count": 21,
   "metadata": {},
   "outputs": [
    {
     "name": "stdout",
     "output_type": "stream",
     "text": [
      "First timestamp in dataset: 2018-10-01 00:32:10\n",
      "Last timestamp in dataset: 2018-11-29 11:45:09\n",
      "Time duration of dataset: 59 days, 11:12:59\n"
     ]
    }
   ],
   "source": [
    "# anything special concerning the time period\n",
    "max_date = df_clean.where(df_clean[\"churn\"] == 1).agg({\"ts\": \"max\"}).collect()[0][0]\n",
    "min_date = df_clean.where(df_clean[\"churn\"] == 1).agg({\"ts\": \"min\"}).collect()[0][0]\n",
    "print(f\"First timestamp in dataset: {min_date}\")\n",
    "print(f\"Last timestamp in dataset: {max_date}\")\n",
    "print(f\"Time duration of dataset: {max_date-min_date}\")"
   ]
  },
  {
   "cell_type": "code",
   "execution_count": 22,
   "metadata": {},
   "outputs": [
    {
     "name": "stdout",
     "output_type": "stream",
     "text": [
      "Number of downgraded users: 154\n"
     ]
    }
   ],
   "source": [
    "# do the same for users who downgrade\n",
    "userId_downgrade = df_clean.filter(F.col(\"page\").isin([\"Submit Downgrade\", \"Downgrade\"])).select(\"userId\").dropDuplicates()\n",
    "userId_downgrade = [(row['userId']) for row in userId_downgrade.collect()]\n",
    "n_userId_downgrade = len(userId_downgrade)\n",
    "print(f\"Number of downgraded users: {n_userId_downgrade}\")\n",
    "df_clean = df_clean.withColumn(\"downgrade\", F.when(F.col(\"userId\").isin(userId_downgrade), 1).otherwise(0))"
   ]
  },
  {
   "cell_type": "code",
   "execution_count": 23,
   "metadata": {},
   "outputs": [
    {
     "name": "stdout",
     "output_type": "stream",
     "text": [
      "First timestamp in dataset: 2018-10-01 00:01:57\n",
      "Last timestamp in dataset: 2018-12-03 01:11:16\n",
      "Time duration of dataset: 63 days, 1:09:19\n"
     ]
    }
   ],
   "source": [
    "# anything special concerning the time period\n",
    "max_date = df_clean.where(df_clean[\"downgrade\"] == 1).agg({\"ts\": \"max\"}).collect()[0][0]\n",
    "min_date = df_clean.where(df_clean[\"downgrade\"] == 1).agg({\"ts\": \"min\"}).collect()[0][0]\n",
    "print(f\"First timestamp in dataset: {min_date}\")\n",
    "print(f\"Last timestamp in dataset: {max_date}\")\n",
    "print(f\"Time duration of dataset: {max_date-min_date}\")"
   ]
  },
  {
   "cell_type": "code",
   "execution_count": 24,
   "metadata": {},
   "outputs": [],
   "source": [
    "# define a basic plot function for reuse\n",
    "def plotAB(df, hew, x, rot=0, normalize = False):    \n",
    "    # Group the data by x and y columns and calculate the count\n",
    "    df_plot = df.dropDuplicates([\"userId\", hew]).groupby([hew, x]).count().sort(hew).toPandas()\n",
    "\n",
    "    # Create the bar plot using seaborn\n",
    "    sns.barplot(x=x, y='count', hue=hew, data=df_plot)\n",
    "    plt.xticks(rotation=rot)\n",
    "\n",
    "    # Add labels and title\n",
    "    plt.xlabel(x.capitalize())\n",
    "    plt.ylabel(\"Count\")\n",
    "    plt.title(f\"Count by {x.capitalize()} and {hew.capitalize()}\")\n",
    "\n",
    "    # Modify the legend\n",
    "    plt.legend(title=hew.capitalize(), loc='best')\n",
    "\n",
    "    # Show the plot\n",
    "    plt.show()"
   ]
  },
  {
   "cell_type": "markdown",
   "metadata": {},
   "source": [
    "Distribution of UserIds across gender and churn"
   ]
  },
  {
   "cell_type": "code",
   "execution_count": 25,
   "metadata": {},
   "outputs": [
    {
     "data": {
      "image/png": "[encoded data removed]",
      "text/plain": [
       "<matplotlib.figure.Figure at 0x7f0a697d23c8>"
      ]
     },
     "metadata": {
      "needs_background": "light"
     },
     "output_type": "display_data"
    }
   ],
   "source": [
    "plotAB(df_clean, 'churn', 'gender')"
   ]
  },
  {
   "cell_type": "markdown",
   "metadata": {},
   "source": [
    "Distribution of UserIds across gender and downgrade"
   ]
  },
  {
   "cell_type": "code",
   "execution_count": 26,
   "metadata": {},
   "outputs": [
    {
     "data": {
      "image/png": "[encoded data removed]",
      "text/plain": [
       "<matplotlib.figure.Figure at 0x7f0a69831470>"
      ]
     },
     "metadata": {
      "needs_background": "light"
     },
     "output_type": "display_data"
    }
   ],
   "source": [
    "plotAB(df_clean, 'downgrade', 'gender')"
   ]
  },
  {
   "cell_type": "markdown",
   "metadata": {},
   "source": [
    "Distribution of UserIds across level and churn"
   ]
  },
  {
   "cell_type": "code",
   "execution_count": 27,
   "metadata": {},
   "outputs": [
    {
     "data": {
      "image/png": "[encoded data removed]",
      "text/plain": [
       "<matplotlib.figure.Figure at 0x7f0a9b46a5c0>"
      ]
     },
     "metadata": {
      "needs_background": "light"
     },
     "output_type": "display_data"
    }
   ],
   "source": [
    "plotAB(df_clean, 'churn', 'level')"
   ]
  },
  {
   "cell_type": "markdown",
   "metadata": {},
   "source": [
    "Distribution of UserIds across level and downgrade"
   ]
  },
  {
   "cell_type": "code",
   "execution_count": 28,
   "metadata": {},
   "outputs": [
    {
     "data": {
      "image/png": "[encoded data removed]",
      "text/plain": [
       "<matplotlib.figure.Figure at 0x7f0a9b447c88>"
      ]
     },
     "metadata": {
      "needs_background": "light"
     },
     "output_type": "display_data"
    }
   ],
   "source": [
    "plotAB(df_clean, 'downgrade', 'level')"
   ]
  },
  {
   "cell_type": "markdown",
   "metadata": {},
   "source": [
    "How many users who did downgrade did also churn?"
   ]
  },
  {
   "cell_type": "code",
   "execution_count": 29,
   "metadata": {},
   "outputs": [
    {
     "data": {
      "text/plain": [
       "35"
      ]
     },
     "execution_count": 29,
     "metadata": {},
     "output_type": "execute_result"
    }
   ],
   "source": [
    "df_clean.where((F.col(\"downgrade\")==1) & (F.col(\"churn\")==1)).select(\"userId\").distinct().count()"
   ]
  },
  {
   "cell_type": "markdown",
   "metadata": {},
   "source": [
    "How many users who did not downgrade did also not churn?"
   ]
  },
  {
   "cell_type": "code",
   "execution_count": 30,
   "metadata": {},
   "outputs": [
    {
     "data": {
      "text/plain": [
       "54"
      ]
     },
     "execution_count": 30,
     "metadata": {},
     "output_type": "execute_result"
    }
   ],
   "source": [
    "df_clean.where((F.col(\"downgrade\")==0) & (F.col(\"churn\")==0)).select(\"userId\").distinct().count()"
   ]
  },
  {
   "cell_type": "markdown",
   "metadata": {},
   "source": [
    "Relative distribution of page interactions across churn"
   ]
  },
  {
   "cell_type": "code",
   "execution_count": 31,
   "metadata": {},
   "outputs": [],
   "source": [
    "df_plot = df_clean.filter((F.col(\"churn\") == 1) & (F.col(\"page\") != \"NextSong\")).groupby([\"page\"]).count()\n",
    "df_plot = df_plot.withColumn(\"freq_churn\", F.col(\"count\") / n_userId_churned)\n",
    "\n",
    "df_tmp = df_clean.filter((F.col(\"churn\") == 0) & (F.col(\"page\") != \"NextSong\")).groupby([\"page\"]).count()\n",
    "df_tmp = df_tmp.withColumn(\"freq_no_churn\", F.col(\"count\") / (n_userId_all - n_userId_churned))\n",
    "\n",
    "df_plot = df_plot.join(df_tmp, \"page\", \"outer\").sort(\"freq_no_churn\").toPandas().fillna(0)"
   ]
  },
  {
   "cell_type": "code",
   "execution_count": 32,
   "metadata": {},
   "outputs": [
    {
     "data": {
      "image/png": "[encoded data removed]",
      "text/plain": [
       "<matplotlib.figure.Figure at 0x7f0a9b3d69b0>"
      ]
     },
     "metadata": {
      "needs_background": "light"
     },
     "output_type": "display_data"
    }
   ],
   "source": [
    "df_plot.plot(x='page', y=['freq_no_churn', 'freq_churn'], kind='bar', figsize=(12,8))\n",
    "plt.xlabel('Page')\n",
    "plt.ylabel('Frequency')\n",
    "plt.title('Page usage for chruned and not churned users')\n",
    "plt.legend(['0', '1'], title=\"Churn\", loc='best')\n",
    "plt.show()"
   ]
  },
  {
   "cell_type": "markdown",
   "metadata": {},
   "source": [
    "Number of songs in the dataset"
   ]
  },
  {
   "cell_type": "code",
   "execution_count": 33,
   "metadata": {},
   "outputs": [
    {
     "data": {
      "text/plain": [
       "58481"
      ]
     },
     "execution_count": 33,
     "metadata": {},
     "output_type": "execute_result"
    }
   ],
   "source": [
    "df_clean.select(\"song\").distinct().count()"
   ]
  },
  {
   "cell_type": "markdown",
   "metadata": {},
   "source": [
    "How many distinct songs does a churned or not churned user hear?"
   ]
  },
  {
   "cell_type": "code",
   "execution_count": 34,
   "metadata": {},
   "outputs": [],
   "source": [
    "df_plot = df_clean.groupBy('userId').agg(F.countDistinct('song').alias('distinct_songs_count')).withColumn(\"churn\", F.when(F.col(\"userId\").isin(userId_churned), 1).otherwise(0))"
   ]
  },
  {
   "cell_type": "code",
   "execution_count": 35,
   "metadata": {},
   "outputs": [
    {
     "data": {
      "image/png": "[encoded data removed]",
      "text/plain": [
       "<matplotlib.figure.Figure at 0x7f0a9b2c2438>"
      ]
     },
     "metadata": {
      "needs_background": "light"
     },
     "output_type": "display_data"
    }
   ],
   "source": [
    "data = df_plot.groupBy(\"churn\").agg(F.avg(\"distinct_songs_count\").alias('Average_no_songs')).toPandas()\n",
    "\n",
    "# Create the bar plot using seaborn\n",
    "sns.barplot(x=\"churn\", y='Average_no_songs', data=data)\n",
    "\n",
    "# Add labels and title\n",
    "plt.xlabel(\"Churn\")\n",
    "plt.ylabel(\"Average no of songs\")\n",
    "plt.title(f\"Average no of songs per group and user\")\n",
    "\n",
    "# Show the plot\n",
    "plt.show()"
   ]
  },
  {
   "cell_type": "markdown",
   "metadata": {},
   "source": [
    "# Feature Engineering\n",
    "Once you've familiarized yourself with the data, build out the features you find promising to train your model on. To work with the full dataset, you can follow the following steps.\n",
    "- Write a script to extract the necessary features from the smaller subset of data\n",
    "- Ensure that your script is scalable, using the best practices discussed in Lesson 3\n",
    "- Try your script on the full data set, debugging your script if necessary\n",
    "\n",
    "If you are working in the classroom workspace, you can just extract features based on the small subset of data contained here. Be sure to transfer over this work to the larger dataset when you work on your Spark cluster.\n",
    "\n",
    "Some features we would like to use:\n",
    "- Gender of User\n",
    "- Downgrade influence on Churn\n",
    "- Songs per User\n",
    "- Page Usage of User\n",
    "- Level of User\n",
    "\n",
    "First we will define the functions and test it on a subset of the data. Then we can just reuse the functions for the real show."
   ]
  },
  {
   "cell_type": "markdown",
   "metadata": {},
   "source": [
    "Lets start with some function to load, transform and clean the data:"
   ]
  },
  {
   "cell_type": "code",
   "execution_count": 144,
   "metadata": {},
   "outputs": [],
   "source": [
    "def load_data(spark_session, data_path):\n",
    "    \"\"\"\n",
    "        Loads a json file\n",
    "    \"\"\"\n",
    "    return spark_session.read.json(data_path)"
   ]
  },
  {
   "cell_type": "code",
   "execution_count": 145,
   "metadata": {},
   "outputs": [],
   "source": [
    "def sample_df(df, perc):\n",
    "    \"\"\"\n",
    "        randomly pick perc of the data\n",
    "    \"\"\"\n",
    "    return df.sample(fraction=perc/100, seed=42)"
   ]
  },
  {
   "cell_type": "code",
   "execution_count": 146,
   "metadata": {},
   "outputs": [],
   "source": [
    "def drop_na(df):\n",
    "    \"\"\"\n",
    "        Drop null values in gender, which is enough\n",
    "    \"\"\"\n",
    "    return df.dropna(how = \"any\", subset  = [\"gender\"])"
   ]
  },
  {
   "cell_type": "code",
   "execution_count": 147,
   "metadata": {},
   "outputs": [],
   "source": [
    "def convert_ts(df):\n",
    "    \"\"\"\n",
    "        Converts unix time to timestamp\n",
    "    \"\"\"\n",
    "    df_tmp = df.withColumn(\"ts\", F.to_timestamp(F.col(\"ts\")/1000))\\\n",
    "               .withColumn(\"registration\", F.to_timestamp(F.col(\"registration\")/1000))\\\n",
    "    \n",
    "    return df_tmp"
   ]
  },
  {
   "cell_type": "code",
   "execution_count": 148,
   "metadata": {},
   "outputs": [],
   "source": [
    "def convert_userid(df):\n",
    "    \"\"\"\n",
    "        Converts userid to integer\n",
    "    \"\"\"\n",
    "    return df.withColumn(\"userId\", F.col(\"userId\").cast('integer'))"
   ]
  },
  {
   "cell_type": "markdown",
   "metadata": {},
   "source": [
    "Now let's go on with the functions to extract features. We will condense the information always to a numerical value per unique userId:"
   ]
  },
  {
   "cell_type": "code",
   "execution_count": 149,
   "metadata": {},
   "outputs": [],
   "source": [
    "def set_churn_label(df):\n",
    "    \"\"\"\n",
    "        Return a dataframe with unique userIds and either 0 (service not churned) or 1 (service churned) in the column \"churn_service\"\n",
    "    \"\"\"\n",
    "    df_tmp = df.groupBy(\"userId\")\\\n",
    "                   .agg(F.max(F.when(F.col(\"page\") == \"Cancellation Confirmation\", 1).otherwise(0)).alias(\"churn_service\"))\n",
    "\n",
    "    return df_tmp"
   ]
  },
  {
   "cell_type": "code",
   "execution_count": 150,
   "metadata": {},
   "outputs": [],
   "source": [
    "def set_downgrade_label(df):\n",
    "    \"\"\"\n",
    "        Return a dataframe with unique userIds and either 0 (service not churned) or 1 (service churned) in the column \"churn_service\"\n",
    "    \"\"\"\n",
    "    df_tmp = df.groupBy(\"userId\")\\\n",
    "                   .agg(F.max(F.when(F.col(\"page\") == \"downgrade\", 1).otherwise(0)).alias(\"churn_paid\"))\n",
    "\n",
    "    return df_tmp"
   ]
  },
  {
   "cell_type": "code",
   "execution_count": 151,
   "metadata": {},
   "outputs": [],
   "source": [
    "def days_since_reg(df):\n",
    "    \"\"\"\n",
    "    Add column for expired days since registration per user\n",
    "    \"\"\"\n",
    "    df_tmp = df.groupBy(\"userId\") \\\n",
    "               .agg(\n",
    "                   (F.round((F.max(\"ts\") - F.first(\"registration\")) / 1000 / 60 / 60 / 24, 1)).alias(\"days_since_reg\")\n",
    "               )\n",
    "\n",
    "    return df_tmp"
   ]
  },
  {
   "cell_type": "code",
   "execution_count": 152,
   "metadata": {},
   "outputs": [],
   "source": [
    "def min_session_dur(df):\n",
    "    \"\"\"\n",
    "        Add column with avg session duration per user\n",
    "    \"\"\"\n",
    "    df_tmp = df.groupBy(\"userId\", \"sessionId\")\\\n",
    "               .agg(\n",
    "                   ((F.max(\"ts\") - F.min(\"ts\"))/1000/60).alias(\"delta_time\"))\\\n",
    "               .groupBy(\"userId\")\\\n",
    "               .agg(\n",
    "                   F.round(F.avg(\"delta_time\"),1).alias(\"min_session_dur\")\n",
    "    )\n",
    "    return df_tmp"
   ]
  },
  {
   "cell_type": "code",
   "execution_count": 153,
   "metadata": {},
   "outputs": [],
   "source": [
    "def cnt_songs_session(df):\n",
    "    \"\"\"\n",
    "        Add column with avg number of songs per session\n",
    "    \"\"\"\n",
    "    df_tmp = df.filter(F.col(\"page\") == \"NextSong\")\\\n",
    "               .groupBy(\"userId\", \"sessionId\")\\\n",
    "               .count()\\\n",
    "               .groupBy(\"userId\").agg(F.avg(\"count\").alias(\"cnt_songs_session\"))\n",
    "    \n",
    "    return df_tmp"
   ]
  },
  {
   "cell_type": "code",
   "execution_count": 154,
   "metadata": {},
   "outputs": [],
   "source": [
    "def gender(df):\n",
    "    \"\"\"\n",
    "        Add column with 0 if Male, 1 if Female\n",
    "    \"\"\"\n",
    "    df_tmp = df.select(\"userId\", \"gender\").dropDuplicates() \\\n",
    "               .withColumn(\"gender\", F.when(F.col(\"gender\") == \"M\", 0).otherwise(1))\n",
    "    \n",
    "    return df_tmp"
   ]
  },
  {
   "cell_type": "code",
   "execution_count": 155,
   "metadata": {},
   "outputs": [],
   "source": [
    "def level(df):\n",
    "    \"\"\"\n",
    "        Add column with 0 if free, 1 if paid user at the last timestamp\n",
    "    \"\"\"\n",
    "    window_spec = Window.partitionBy(\"userId\").orderBy(F.col(\"ts\").desc())\n",
    "    \n",
    "    df_tmp = df.withColumn(\"last_level\", F.row_number().over(window_spec)) \\\n",
    "               .filter(F.col(\"last_level\") == 1).select(\"userId\", \"level\") \\\n",
    "               .withColumn(\"level\", F.when(F.col(\"level\") == \"free\", 0).otherwise(1))    \n",
    "    \n",
    "    return df_tmp"
   ]
  },
  {
   "cell_type": "code",
   "execution_count": 156,
   "metadata": {},
   "outputs": [],
   "source": [
    "def page_freq(df):\n",
    "    \"\"\"\n",
    "        For every relevant page status return the frequency of visits, so the relative count\n",
    "    \"\"\"    \n",
    "    page_rel = [(row['page']) for row in df.select(\"page\").dropDuplicates().collect()]\n",
    "    page_rel.remove(\"Cancel\")\n",
    "    page_rel.remove(\"Cancellation Confirmation\")    \n",
    "    \n",
    "    df_tmp = df.filter(F.col(\"page\").isin(page_rel)) \\\n",
    "               .groupBy(\"userId\").pivot(\"page\", page_rel).agg(F.count(\"*\")) \\\n",
    "               .fillna(0)\n",
    "\n",
    "    df_tmp = df_tmp.withColumn(\"totalcount\", sum(df_tmp[col] for col in df_tmp.columns[1:]))    \n",
    "    \n",
    "    for col in df_tmp.columns[1:-1]:\n",
    "        df_tmp = df_tmp.withColumn(col, F.col(col) / F.col(\"totalcount\"))\n",
    "\n",
    "    # Drop the \"totalcount\" column\n",
    "    df_tmp = df_tmp.drop(\"totalcount\")    \n",
    "    \n",
    "    return df_tmp"
   ]
  },
  {
   "cell_type": "code",
   "execution_count": 157,
   "metadata": {},
   "outputs": [],
   "source": [
    "def prepare_df(df):\n",
    "    \"\"\"\n",
    "        Clean and format dataframe for further feature engineering\n",
    "    \"\"\"\n",
    "    df = drop_na(df)\n",
    "    df = convert_userid(df)\n",
    "    \n",
    "    return df"
   ]
  },
  {
   "cell_type": "code",
   "execution_count": 158,
   "metadata": {},
   "outputs": [],
   "source": [
    "def feature_df(df):\n",
    "    \"\"\"\n",
    "        Returns a df with unique userIds and columns that hold numeric values for the identified features\n",
    "    \"\"\"\n",
    "    churn_df = set_churn_label(df)\n",
    "    downgrade_df = set_downgrade_label(df)\n",
    "    days_since_reg_df = days_since_reg(df)\n",
    "    min_session_dur_df = min_session_dur(df)\n",
    "    cnt_songs_session_df = cnt_songs_session(df)\n",
    "    gender_df = gender(df)\n",
    "    level_df = level(df)\n",
    "    page_freq_df = page_freq(df)\n",
    "    \n",
    "    feature_df = churn_df.join(downgrade_df, \"userId\", \"inner\")\\\n",
    "                         .join(days_since_reg_df, \"userId\", \"inner\")\\\n",
    "                         .join(min_session_dur_df, \"userId\", \"inner\")\\\n",
    "                         .join(cnt_songs_session_df, \"userId\", \"inner\")\\\n",
    "                         .join(gender_df, \"userId\", \"inner\")\\\n",
    "                         .join(level_df, \"userId\", \"inner\")\\\n",
    "                         .join(page_freq_df, \"userId\", \"inner\")\n",
    "    \n",
    "    return feature_df"
   ]
  },
  {
   "cell_type": "code",
   "execution_count": 159,
   "metadata": {},
   "outputs": [],
   "source": [
    "# loead the json dataset\n",
    "df = load_data(spark, \"mini_sparkify_event_data.json\")"
   ]
  },
  {
   "cell_type": "code",
   "execution_count": 116,
   "metadata": {},
   "outputs": [],
   "source": [
    "# get a sample of the dataframe: (df, percent)\n",
    "df = sample_df(df, 5)"
   ]
  },
  {
   "cell_type": "code",
   "execution_count": 160,
   "metadata": {},
   "outputs": [],
   "source": [
    "# clean the data\n",
    "clean_df = prepare_df(df)"
   ]
  },
  {
   "cell_type": "code",
   "execution_count": 161,
   "metadata": {},
   "outputs": [],
   "source": [
    "final_df = final_df(clean_df)"
   ]
  },
  {
   "cell_type": "code",
   "execution_count": 163,
   "metadata": {},
   "outputs": [],
   "source": [
    "# replace \" \" with \"_\" in the column names for data storage\n",
    "new_columns = [F.col(column).alias(column.replace(\" \", \"_\")) for column in final_df.columns]\n",
    "final_df = feature_df.select(*new_columns)"
   ]
  },
  {
   "cell_type": "markdown",
   "metadata": {},
   "source": [
    "# Modeling\n",
    "Split the full dataset into train, test, and validation sets. Test out several of the machine learning methods you learned. Evaluate the accuracy of the various models, tuning parameters as necessary. Determine your winning model based on test accuracy and report results on the validation set. Since the churned users are a fairly small subset, I suggest using F1 score as the metric to optimize."
   ]
  },
  {
   "cell_type": "code",
   "execution_count": 12,
   "metadata": {},
   "outputs": [],
   "source": [
    "# save the final dataframe to parquet format for easier usage\n",
    "final_df.write.parquet(\"final_df.parquet\")\n",
    "# final_df.write.csv(\"final_df.csv\")\n",
    "\n",
    "# as just 1 parquet file\n",
    "# Reduce the number of partitions to 1\n",
    "# final_df_single_partition = final_df.coalesce(1)\n",
    "\n",
    "# # Save the DataFrame as a single Parquet file\n",
    "# final_df_single_partition.write.parquet(\"final_df_signle.parquet\")"
   ]
  },
  {
   "cell_type": "code",
   "execution_count": 3,
   "metadata": {},
   "outputs": [],
   "source": [
    "# read the parquet file\n",
    "final_df = spark.read.parquet(\"final_df.parquet\")\n",
    "# final_df = spark.read.csv(\"final_df.csv\")"
   ]
  },
  {
   "cell_type": "code",
   "execution_count": 5,
   "metadata": {},
   "outputs": [],
   "source": [
    "# convert all columns to float except, drop userid\n",
    "float_columns = [F.col(column).cast(\"float\").alias(column) for column in final_df.columns[1:]]\n",
    "final_df = final_df.select(*float_columns)"
   ]
  },
  {
   "cell_type": "code",
   "execution_count": 8,
   "metadata": {},
   "outputs": [],
   "source": [
    "#  Scale the features\n",
    "assembler = VectorAssembler(inputCols=final_df.columns[1:], outputCol=\"unscaled_features\")\n",
    "\n",
    "scaler = StandardScaler(inputCol=\"unscaled_features\", outputCol=\"features\")\n",
    "scaler_model = scaler.fit(final_df)\n",
    "\n",
    "final_scaled_df = scalerModel.transform(final_df)"
   ]
  },
  {
   "cell_type": "code",
   "execution_count": 6,
   "metadata": {},
   "outputs": [],
   "source": [
    "# split into train, test and validation sets\n",
    "train, test, validation = final_scaled_df.randomSplit([0.6, 0.2, 0.2], seed=42)"
   ]
  },
  {
   "cell_type": "code",
   "execution_count": 7,
   "metadata": {},
   "outputs": [],
   "source": [
    "# Prepare the data by assembling the features and creating a label column.\n",
    "train_data = assembler.transform(train).select(\"churn_service\", \"unscaled_features\")\n",
    "test_data = assembler.transform(test).select(\"churn_service\", \"unscaled_features\")\n",
    "validation_data = assembler.transform(validation).select(\"churn_service\", \"unscaled_features\")"
   ]
  },
  {
   "cell_type": "code",
   "execution_count": 44,
   "metadata": {},
   "outputs": [],
   "source": [
    "# Choose and implement several machine learning models.\n",
    "rf = RandomForestClassifier(labelCol=\"churn_service\", featuresCol=\"features\")\n",
    "lr = LogisticRegression(labelCol=\"churn_service\", featuresCol=\"features\")"
   ]
  },
  {
   "cell_type": "code",
   "execution_count": 45,
   "metadata": {},
   "outputs": [],
   "source": [
    "# Train and evaluate the models using the train and test sets.\n",
    "evaluator = BinaryClassificationEvaluator(labelCol=\"churn_service\", rawPredictionCol=\"rawPrediction\", metricName=\"areaUnderROC\")\n",
    "\n",
    "# Random Forest\n",
    "rf_model = rf.fit(train_data)\n",
    "rf_predictions = rf_model.transform(test_data)\n",
    "rf_f1_score = evaluator.evaluate(rf_predictions)\n",
    "\n",
    "# Logistic Regression\n",
    "lr_model = lr.fit(train_data)\n",
    "lr_predictions = lr_model.transform(test_data)\n",
    "lr_f1_score = evaluator.evaluate(lr_predictions)"
   ]
  },
  {
   "cell_type": "code",
   "execution_count": 46,
   "metadata": {},
   "outputs": [],
   "source": [
    "# Tune the parameters of the models to improve their performance.\n",
    "paramGrid = (ParamGridBuilder()\n",
    "             .addGrid(rf.numTrees, [10, 20, 30])\n",
    "             .addGrid(rf.maxDepth, [5, 10, 15])\n",
    "             .build())\n",
    "\n",
    "crossval = CrossValidator(estimator=rf,\n",
    "                          estimatorParamMaps=paramGrid,\n",
    "                          evaluator=evaluator,\n",
    "                          numFolds=3)\n",
    "\n",
    "# Fit the models\n",
    "cv_model = crossval.fit(train_data)\n",
    "cv_predictions = cv_model.transform(test_data)\n",
    "cv_f1_score = evaluator.evaluate(cv_predictions)"
   ]
  },
  {
   "cell_type": "code",
   "execution_count": 47,
   "metadata": {},
   "outputs": [],
   "source": [
    "# save model locally for reuse\n",
    "cv_model.write().overwrite().save('cv_model.model')"
   ]
  },
  {
   "cell_type": "code",
   "execution_count": 48,
   "metadata": {},
   "outputs": [],
   "source": [
    "# load the model if necessary\n",
    "cv_model = cv_model.load('cv_model.model')"
   ]
  },
  {
   "cell_type": "code",
   "execution_count": 49,
   "metadata": {},
   "outputs": [
    {
     "name": "stdout",
     "output_type": "stream",
     "text": [
      "RandomForestClassificationModel (uid=RandomForestClassifier_e2d8fa04690e) with 30 trees\n"
     ]
    }
   ],
   "source": [
    "# Select the winning model based on the F1 score.\n",
    "best_model = cv_model.bestModel\n",
    "print(best_model)"
   ]
  },
  {
   "cell_type": "code",
   "execution_count": 50,
   "metadata": {},
   "outputs": [],
   "source": [
    "# Evaluate the winning model on the validation set.\n",
    "validation_predictions = best_model.transform(validation_data)\n",
    "validation_f1_score = evaluator.evaluate(validation_predictions)"
   ]
  },
  {
   "cell_type": "code",
   "execution_count": 51,
   "metadata": {},
   "outputs": [
    {
     "name": "stdout",
     "output_type": "stream",
     "text": [
      "Random Forest F1 Score: 0.7305194805194806\n",
      "Logistic Regression F1 Score: 0.5194805194805194\n",
      "Cross-Validated Random Forest F1 Score: 0.7207792207792209\n",
      "Validation F1 Score: 0.7550607287449393\n"
     ]
    }
   ],
   "source": [
    "# Print the results\n",
    "print(\"Random Forest F1 Score:\", rf_f1_score)\n",
    "print(\"Logistic Regression F1 Score:\", lr_f1_score)\n",
    "print(\"Cross-Validated Random Forest F1 Score:\", cv_f1_score)\n",
    "print(\"Validation F1 Score:\", validation_f1_score)"
   ]
  },
  {
   "cell_type": "markdown",
   "metadata": {},
   "source": [
    "The F1 score is a measure of a model's accuracy, taking into account both precision and recall. It is the harmonic mean of precision and recall. A higher F1 score indicates better performance, with a maximum value of 1.\n",
    "In this case the F1 score of the Random Forest model achieved the best performance.\n",
    "\n",
    "Cross-validation is a technique used to assess the performance of a model on unseen data by splitting the data into multiple subsets and training the model on different combinations of these subsets. The F1 score obtained through cross-validation provides an estimate of the model's performance on unseen data.\n",
    "In this case the F1 score of the Cross-Validated Random Forest model indicates a relatively good performance, it is only slightly smaller than the original F1 score.\n",
    "\n",
    "The Validation F1 score represents the performance of the model on a separate validation dataset that was not used during training or cross-validation. It provides an additional measure of the model's performance on unseen data.\n",
    "In this case the Validation F1 score indicates a relatively good performance, it is in the range of the original F1 score."
   ]
  },
  {
   "cell_type": "code",
   "execution_count": 54,
   "metadata": {},
   "outputs": [
    {
     "name": "stdout",
     "output_type": "stream",
     "text": [
      "1.79854701781 : Roll_Advert\n",
      "1.7463727826 : min_session_dur\n",
      "1.43910792933 : Downgrade\n",
      "1.34897841534 : Logout\n",
      "1.13563887787 : level\n",
      "0.540637260211 : Settings\n",
      "0.357648684562 : Thumbs_Down\n",
      "0.282898023644 : Upgrade\n",
      "0.220934106664 : Save_Settings\n",
      "0.204987748354 : Add_to_Playlist\n",
      "0.142568478476 : Thumbs_Up\n",
      "0.0 : churn_paid\n",
      "-0.00469741847854 : Add_Friend\n",
      "-0.00993189610446 : gender\n",
      "-0.111531780158 : Help\n",
      "-0.315156450057 : NextSong\n",
      "-0.326851686331 : Submit_Downgrade\n",
      "-0.401463020789 : About\n",
      "-0.51470248722 : Submit_Upgrade\n",
      "-0.562068722385 : Error\n",
      "-0.790970824619 : days_since_reg\n",
      "-1.15418326529 : Home\n",
      "-1.41984533816 : cnt_songs_session\n"
     ]
    }
   ],
   "source": [
    "# Which features have the highest importanceaccording to linear regression model\n",
    "\n",
    "# Create a dictionary to store feature names and their importances\n",
    "feature_importance_dict = dict(zip(lr_model.coefficients, final_df.columns[1:]))\n",
    "\n",
    "# Sort the features by importance in descending order\n",
    "sorted_features = sorted(feature_importance_dict.items(), key=lambda x: x[0], reverse=True)\n",
    "\n",
    "# Print the sorted features and their importances\n",
    "for feature, importance in sorted_features:\n",
    "    print(feature, \":\", importance)"
   ]
  },
  {
   "cell_type": "code",
   "execution_count": 59,
   "metadata": {},
   "outputs": [
    {
     "name": "stdout",
     "output_type": "stream",
     "text": [
      "days_since_reg : 0.175578993752\n",
      "Thumbs_Down : 0.119067034112\n",
      "NextSong : 0.0842981685143\n",
      "Downgrade : 0.0790883720268\n",
      "Add_to_Playlist : 0.0584350436628\n",
      "Logout : 0.0556237429146\n",
      "Roll_Advert : 0.0546667081315\n",
      "Settings : 0.0534787172137\n",
      "About : 0.0462991651714\n",
      "Add_Friend : 0.0461891249539\n",
      "Thumbs_Up : 0.0414958476081\n",
      "Upgrade : 0.032003949558\n",
      "Save_Settings : 0.0299211298625\n",
      "Help : 0.0252633317405\n",
      "Home : 0.0246256947025\n",
      "min_session_dur : 0.0245316136545\n",
      "cnt_songs_session : 0.0219509445052\n",
      "Error : 0.0089252531595\n",
      "Submit_Upgrade : 0.00747231484636\n",
      "level : 0.00668321433907\n",
      "gender : 0.00288081560754\n",
      "Submit_Downgrade : 0.0015208199625\n",
      "churn_paid : 0.0\n"
     ]
    }
   ],
   "source": [
    "# Which features have the highest importance with the RF model\n",
    "\n",
    "# Get feature importances from the RandomForestClassifier model\n",
    "feature_importances = rf_model.featureImportances\n",
    "# print(feature_importances)\n",
    "\n",
    "# Create a list of feature names\n",
    "feature_names = final_df.columns[1:]\n",
    "\n",
    "# Create a dictionary to store feature names and their importances\n",
    "feature_importance_dict = dict(zip(feature_names, feature_importances))\n",
    "\n",
    "# Sort the features by importance in descending order\n",
    "sorted_features = sorted(feature_importance_dict.items(), key=lambda x: x[1], reverse=True)\n",
    "\n",
    "# Print the sorted features and their importances\n",
    "for feature, importance in sorted_features:\n",
    "    print(feature, \":\", importance)"
   ]
  },
  {
   "cell_type": "markdown",
   "metadata": {},
   "source": [
    "days_since_reg: This feature has the highest importance with a value of 0.1756. It represents the number of days since the user registered for the service. A higher value indicates that the user has been registered for a longer time, which suggests that users who have been registered for a longer time are more likely to churn.\n",
    "\n",
    "Thumbs_Down: This feature has an importance of 0.1191. It represents the number of times the user has given a thumbs-down rating to a song. A higher value suggests that users who frequently give thumbs-down ratings are more likely to churn.\n",
    "\n",
    "NextSong: This feature has an importance of 0.0843. It represents the number of times the user has played a song. A higher value indicates that users who listen to more songs are less likely to churn.\n",
    "\n",
    "Downgrade: This feature has an importance of 0.0791. It represents the number of times the user has downgraded their service. A higher value suggests that users who frequently downgrade their service are more likely to churn.\n",
    "\n",
    "Add_to_Playlist: This feature has an importance of 0.0584. It represents the number of times the user has added a song to their playlist. A higher value indicates that users who frequently add songs to their playlist are less likely to churn.\n",
    "\n",
    "Logout: This feature has an importance of 0.0556. It represents the number of times the user has logged out of the service. A higher value suggests that users who frequently log out are more likely to churn.\n",
    "\n",
    "Roll_Advert: This feature has an importance of 0.0547. It represents the number of times the user has seen an advertisement. A higher value indicates that users who are exposed to more advertisements are more likely to churn.\n",
    "\n",
    "Settings: This feature has an importance of 0.0535. It represents the number of times the user has accessed the settings. A higher value suggests that users who frequently access the settings are more likely to churn.\n",
    "\n",
    "About: This feature has an importance of 0.0463. It represents the number of times the user has accessed the \"About\" page. A higher value indicates that users who frequently access the \"About\" page are more likely to churn.\n",
    "\n",
    "Add_Friend: This feature has an importance of 0.0462. It represents the number of times the user has added a friend. A higher value suggests that users who frequently add friends are less likely to churn.\n",
    "\n",
    "These are just a few examples of the feature importances and their interpretations. You can continue explaining the other features in a similar manner. Remember to emphasize that the importance values are relative to each other and not absolute indicators of the impact on churn."
   ]
  },
  {
   "cell_type": "markdown",
   "metadata": {},
   "source": [
    "Yes, the feature importances obtained from the Linear Regression model and the Random Forest model can sometimes provide contradictory interpretations. This is because these models have different underlying assumptions and work differently in terms of feature importance estimation.\n",
    "\n",
    "In the Linear Regression model, the coefficients represent the change in the target variable (churn_service) for a one-unit change in the corresponding feature. So, a positive coefficient suggests a positive impact on the target variable, while a negative coefficient suggests a negative impact. For example, in your results, features like \"Roll_Advert\", \"min_session_dur\", and \"Downgrade\" have positive coefficients, indicating a positive impact on the likelihood of churn, while features like \"NextSong\", \"Submit_Downgrade\", and \"days_since_reg\" have negative coefficients, indicating a negative impact on the likelihood of churn.\n",
    "\n",
    "On the other hand, the feature importances obtained from the Random Forest model represent the relative importance of each feature in predicting the target variable. These importances are calculated based on the contribution of each feature to the overall predictive performance of the model. The Random Forest model considers the interactions and non-linear relationships between features, which can lead to different feature importance rankings compared to the Linear Regression model.\n",
    "\n",
    "It's important to note that the interpretation of feature importances should be considered in the context of the specific model and problem domain. Both models provide insights into feature importance, but they may prioritize different features based on their respective algorithms and assumptions."
   ]
  },
  {
   "cell_type": "markdown",
   "metadata": {},
   "source": [
    "# Final Steps\n",
    "Clean up your code, adding comments and renaming variables to make the code easier to read and maintain. Refer to the Spark Project Overview page and Data Scientist Capstone Project Rubric to make sure you are including all components of the capstone project and meet all expectations. Remember, this includes thorough documentation in a README file in a Github repository, as well as a web app or blog post."
   ]
  },
  {
   "cell_type": "code",
   "execution_count": null,
   "metadata": {},
   "outputs": [],
   "source": []
  },
  {
   "cell_type": "code",
   "execution_count": null,
   "metadata": {},
   "outputs": [],
   "source": []
  }
 ],
 "metadata": {
  "kernelspec": {
   "display_name": "Python 3",
   "language": "python",
   "name": "python3"
  },
  "language_info": {
   "codemirror_mode": {
    "name": "ipython",
    "version": 3
   },
   "file_extension": ".py",
   "mimetype": "text/x-python",
   "name": "python",
   "nbconvert_exporter": "python",
   "pygments_lexer": "ipython3",
   "version": "3.6.3"
  }
 },
 "nbformat": 4,
 "nbformat_minor": 2
}
