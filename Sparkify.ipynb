{
 "cells": [
  {
   "cell_type": "markdown",
   "metadata": {},
   "source": [
    "# Sparkify Project Workspace\n",
    "This workspace contains a tiny subset (128MB) of the full dataset available (12GB). Feel free to use this workspace to build your project, or to explore a smaller subset with Spark before deploying your cluster on the cloud. Instructions for setting up your Spark cluster is included in the last lesson of the Extracurricular Spark Course content.\n",
    "\n",
    "You can follow the steps below to guide your data analysis and model building portion of this project."
   ]
  },
  {
   "cell_type": "code",
   "execution_count": 41,
   "metadata": {},
   "outputs": [],
   "source": [
    "# import libraries\n",
    "from pyspark.sql import SparkSession\n",
    "from pyspark.sql import functions as F\n",
    "from pyspark.sql import types as T\n",
    "from pyspark.sql import Window\n",
    "\n",
    "from pyspark.ml import Pipeline\n",
    "from pyspark.ml.classification import LogisticRegression, RandomForestClassifier, GBTClassifier, DecisionTreeClassifier, NaiveBayes\n",
    "from pyspark.ml.evaluation import MulticlassClassificationEvaluator, BinaryClassificationEvaluator\n",
    "from pyspark.ml.feature import CountVectorizer, IDF, Normalizer, PCA, RegexTokenizer, StandardScaler, StopWordsRemover, StringIndexer, VectorAssembler, MinMaxScaler\n",
    "from pyspark.ml.regression import LinearRegression\n",
    "from pyspark.ml.tuning import CrossValidator, ParamGridBuilder\n",
    "\n",
    "import re\n",
    "import datetime\n",
    "import matplotlib.pyplot as plt\n",
    "import pandas as pd\n",
    "import seaborn as sns\n",
    "import numpy as np\n",
    "#\n",
    "from pyspark.sql.functions import to_timestamp"
   ]
  },
  {
   "cell_type": "code",
   "execution_count": 2,
   "metadata": {},
   "outputs": [],
   "source": [
    "# create a Spark session\n",
    "spark = SparkSession \\\n",
    "    .builder \\\n",
    "    .appName(\"Sparkify\") \\\n",
    "    .getOrCreate()"
   ]
  },
  {
   "cell_type": "markdown",
   "metadata": {},
   "source": [
    "# Load and Clean Dataset\n",
    "In this workspace, the mini-dataset file is `mini_sparkify_event_data.json`. Load and clean the dataset, checking for invalid or missing data - for example, records without userids or sessionids. "
   ]
  },
  {
   "cell_type": "code",
   "execution_count": 3,
   "metadata": {},
   "outputs": [],
   "source": [
    "# load the data into spark df\n",
    "\n",
    "data_path = 'mini_sparkify_event_data.json'\n",
    "df = spark.read.json(data_path)\n",
    "# df.persist()"
   ]
  },
  {
   "cell_type": "code",
   "execution_count": 4,
   "metadata": {},
   "outputs": [
    {
     "name": "stdout",
     "output_type": "stream",
     "text": [
      "root\n",
      " |-- artist: string (nullable = true)\n",
      " |-- auth: string (nullable = true)\n",
      " |-- firstName: string (nullable = true)\n",
      " |-- gender: string (nullable = true)\n",
      " |-- itemInSession: long (nullable = true)\n",
      " |-- lastName: string (nullable = true)\n",
      " |-- length: double (nullable = true)\n",
      " |-- level: string (nullable = true)\n",
      " |-- location: string (nullable = true)\n",
      " |-- method: string (nullable = true)\n",
      " |-- page: string (nullable = true)\n",
      " |-- registration: long (nullable = true)\n",
      " |-- sessionId: long (nullable = true)\n",
      " |-- song: string (nullable = true)\n",
      " |-- status: long (nullable = true)\n",
      " |-- ts: long (nullable = true)\n",
      " |-- userAgent: string (nullable = true)\n",
      " |-- userId: string (nullable = true)\n",
      "\n"
     ]
    }
   ],
   "source": [
    "# explore the schema (which variables and their format)\n",
    "df.printSchema()"
   ]
  },
  {
   "cell_type": "code",
   "execution_count": 5,
   "metadata": {},
   "outputs": [
    {
     "data": {
      "text/plain": [
       "286500"
      ]
     },
     "execution_count": 5,
     "metadata": {},
     "output_type": "execute_result"
    }
   ],
   "source": [
    "# Rows in the dataset\n",
    "df.count()"
   ]
  },
  {
   "cell_type": "code",
   "execution_count": 6,
   "metadata": {},
   "outputs": [],
   "source": [
    "# convert ts to timedate\n",
    "df = df.withColumn(\"ts\", F.to_timestamp(F.col(\"ts\")/1000))"
   ]
  },
  {
   "cell_type": "code",
   "execution_count": 7,
   "metadata": {},
   "outputs": [
    {
     "name": "stdout",
     "output_type": "stream",
     "text": [
      "+-------------------+\n",
      "|ts                 |\n",
      "+-------------------+\n",
      "|2018-10-01 00:01:57|\n",
      "+-------------------+\n",
      "only showing top 1 row\n",
      "\n"
     ]
    }
   ],
   "source": [
    "# create new column from ts to have timestamps\n",
    "df.select(\"ts\").show(1, False)"
   ]
  },
  {
   "cell_type": "code",
   "execution_count": 8,
   "metadata": {},
   "outputs": [],
   "source": [
    "# convert userId to integer\n",
    "df = df.withColumn(\"userId\", F.col(\"userId\").cast('integer'))"
   ]
  },
  {
   "cell_type": "code",
   "execution_count": 9,
   "metadata": {},
   "outputs": [
    {
     "name": "stdout",
     "output_type": "stream",
     "text": [
      "Categorical columns: \n",
      "['artist', 'auth', 'firstName', 'gender', 'lastName', 'level', 'location', 'method', 'page', 'song', 'userAgent']\n",
      "\n",
      "\n",
      "Numerical columns: \n",
      "['itemInSession', 'length', 'registration', 'sessionId', 'status', 'ts', 'userId']\n"
     ]
    }
   ],
   "source": [
    "# it might come in handy to have the categorical and numerical columns collected by lists\n",
    "cat_cols = [col[0] for col in df.dtypes if col[1] == \"string\"]\n",
    "num_cols = [col[0] for col in df.dtypes if col[1] != \"string\"]\n",
    "\n",
    "print(\"Categorical columns: \")\n",
    "print(cat_cols)\n",
    "print(\"\\n\")\n",
    "print(\"Numerical columns: \")\n",
    "print(num_cols)"
   ]
  },
  {
   "cell_type": "code",
   "execution_count": 10,
   "metadata": {},
   "outputs": [
    {
     "name": "stdout",
     "output_type": "stream",
     "text": [
      "Null values in column [artist]: 58392\n",
      "Null values in column [firstName]: 8346\n",
      "Null values in column [gender]: 8346\n",
      "Null values in column [lastName]: 8346\n",
      "Null values in column [length]: 58392\n",
      "Null values in column [location]: 8346\n",
      "Null values in column [registration]: 8346\n",
      "Null values in column [song]: 58392\n",
      "Null values in column [userAgent]: 8346\n",
      "Null values in column [userId]: 8346\n"
     ]
    }
   ],
   "source": [
    "# check for null values for each column\n",
    "for col in df.columns:\n",
    "    counts = df.filter(F.col(col).isNull()).count()\n",
    "    if counts > 0:\n",
    "        print(f\"Null values in column [{col}]: {counts}\")"
   ]
  },
  {
   "cell_type": "code",
   "execution_count": 11,
   "metadata": {},
   "outputs": [
    {
     "data": {
      "text/plain": [
       "278154"
      ]
     },
     "execution_count": 11,
     "metadata": {},
     "output_type": "execute_result"
    }
   ],
   "source": [
    "# i suggest to drop first the 8.346 null values that are present in most columsn. \n",
    "# There remain 50.046 nulls for artist, length and song. \n",
    "df_clean = df.dropna(how = \"any\", subset  = [\"gender\"])\n",
    "df_clean.count()"
   ]
  },
  {
   "cell_type": "code",
   "execution_count": 12,
   "metadata": {},
   "outputs": [
    {
     "data": {
      "text/plain": [
       "278154"
      ]
     },
     "execution_count": 12,
     "metadata": {},
     "output_type": "execute_result"
    }
   ],
   "source": [
    "# remaining duplicates?\n",
    "df_clean.dropDuplicates().count()"
   ]
  },
  {
   "cell_type": "code",
   "execution_count": 13,
   "metadata": {},
   "outputs": [
    {
     "name": "stdout",
     "output_type": "stream",
     "text": [
      "+--------------+---------+---------+------+-------------+--------+---------+-----+---------------+------+--------+-------------+---------+---------+------+-------------------+------------------------------------------------------------------------+------+\n",
      "|artist        |auth     |firstName|gender|itemInSession|lastName|length   |level|location       |method|page    |registration |sessionId|song     |status|ts                 |userAgent                                                               |userId|\n",
      "+--------------+---------+---------+------+-------------+--------+---------+-----+---------------+------+--------+-------------+---------+---------+------+-------------------+------------------------------------------------------------------------+------+\n",
      "|Martha Tilston|Logged In|Colin    |M     |50           |Freeman |277.89016|paid |Bakersfield, CA|PUT   |NextSong|1538173362000|29       |Rockpools|200   |2018-10-01 00:01:57|Mozilla/5.0 (Windows NT 6.1; WOW64; rv:31.0) Gecko/20100101 Firefox/31.0|30    |\n",
      "+--------------+---------+---------+------+-------------+--------+---------+-----+---------------+------+--------+-------------+---------+---------+------+-------------------+------------------------------------------------------------------------+------+\n",
      "only showing top 1 row\n",
      "\n"
     ]
    }
   ],
   "source": [
    "# no duplicates\n",
    "# show one specific line\n",
    "df_clean.show(1, False)"
   ]
  },
  {
   "cell_type": "code",
   "execution_count": 14,
   "metadata": {},
   "outputs": [
    {
     "name": "stdout",
     "output_type": "stream",
     "text": [
      "+-------------------------+------+\n",
      "|page                     |count |\n",
      "+-------------------------+------+\n",
      "|Cancel                   |52    |\n",
      "|Submit Downgrade         |63    |\n",
      "|Thumbs Down              |2546  |\n",
      "|Home                     |10082 |\n",
      "|Downgrade                |2055  |\n",
      "|Roll Advert              |3933  |\n",
      "|Logout                   |3226  |\n",
      "|Save Settings            |310   |\n",
      "|Cancellation Confirmation|52    |\n",
      "|About                    |495   |\n",
      "|Settings                 |1514  |\n",
      "|Add to Playlist          |6526  |\n",
      "|Add Friend               |4277  |\n",
      "|NextSong                 |228108|\n",
      "|Thumbs Up                |12551 |\n",
      "|Help                     |1454  |\n",
      "|Upgrade                  |499   |\n",
      "|Error                    |252   |\n",
      "|Submit Upgrade           |159   |\n",
      "+-------------------------+------+\n",
      "\n"
     ]
    }
   ],
   "source": [
    "# inspect page values\n",
    "df_clean.groupBy([\"page\"]).count().show(truncate=False)"
   ]
  },
  {
   "cell_type": "code",
   "execution_count": 15,
   "metadata": {},
   "outputs": [
    {
     "name": "stdout",
     "output_type": "stream",
     "text": [
      "+------+------+\n",
      "|method|count |\n",
      "+------+------+\n",
      "|PUT   |257818|\n",
      "|GET   |20336 |\n",
      "+------+------+\n",
      "\n"
     ]
    }
   ],
   "source": [
    "# inspect method values\n",
    "df_clean.groupBy([\"method\"]).count().show(truncate=False)"
   ]
  },
  {
   "cell_type": "code",
   "execution_count": 16,
   "metadata": {},
   "outputs": [
    {
     "name": "stdout",
     "output_type": "stream",
     "text": [
      "+-----+------+\n",
      "|level|count |\n",
      "+-----+------+\n",
      "|free |55721 |\n",
      "|paid |222433|\n",
      "+-----+------+\n",
      "\n"
     ]
    }
   ],
   "source": [
    "# inspect level values\n",
    "df_clean.groupBy([\"level\"]).count().show(truncate=False)"
   ]
  },
  {
   "cell_type": "code",
   "execution_count": 17,
   "metadata": {},
   "outputs": [
    {
     "name": "stdout",
     "output_type": "stream",
     "text": [
      "+---------+------+\n",
      "|auth     |count |\n",
      "+---------+------+\n",
      "|Cancelled|52    |\n",
      "|Logged In|278102|\n",
      "+---------+------+\n",
      "\n"
     ]
    }
   ],
   "source": [
    "# inspect level values\n",
    "df_clean.groupBy([\"auth\"]).count().show(truncate=False)"
   ]
  },
  {
   "cell_type": "code",
   "execution_count": 18,
   "metadata": {},
   "outputs": [
    {
     "name": "stdout",
     "output_type": "stream",
     "text": [
      "First timestamp in dataset: 2018-10-01 00:01:57\n",
      "Last timestamp in dataset: 2018-12-03 01:11:16\n",
      "Time duration of dataset: 63 days, 1:09:19\n"
     ]
    }
   ],
   "source": [
    "# time period for cancellations:\n",
    "max_date = df_clean.agg({\"ts\": \"max\"}).collect()[0][0]\n",
    "min_date = df_clean.agg({\"ts\": \"min\"}).collect()[0][0]\n",
    "print(f\"First timestamp in dataset: {min_date}\")\n",
    "print(f\"Last timestamp in dataset: {max_date}\")\n",
    "print(f\"Time duration of dataset: {max_date-min_date}\")"
   ]
  },
  {
   "cell_type": "code",
   "execution_count": 19,
   "metadata": {},
   "outputs": [
    {
     "name": "stdout",
     "output_type": "stream",
     "text": [
      "Number of total users: 225\n"
     ]
    }
   ],
   "source": [
    "# get all user_id in the dataset as list\n",
    "userId_all = [row.userId for row in df_clean.select(\"userId\").dropDuplicates().collect()]\n",
    "n_userId_all = len(userId_all)\n",
    "print(f\"Number of total users: {n_userId_all}\")"
   ]
  },
  {
   "cell_type": "markdown",
   "metadata": {},
   "source": [
    "# Exploratory Data Analysis\n",
    "When you're working with the full dataset, perform EDA by loading a small subset of the data and doing basic manipulations within Spark. In this workspace, you are already provided a small subset of data you can explore.\n",
    "\n",
    "### Define Churn\n",
    "\n",
    "Once you've done some preliminary analysis, create a column `Churn` to use as the label for your model. I suggest using the `Cancellation Confirmation` events to define your churn, which happen for both paid and free users. As a bonus task, you can also look into the `Downgrade` events.\n",
    "\n",
    "### Explore Data\n",
    "Once you've defined churn, perform some exploratory data analysis to observe the behavior for users who stayed vs users who churned. You can start by exploring aggregates on these two groups of users, observing how much of a specific action they experienced per a certain time unit or number of songs played."
   ]
  },
  {
   "cell_type": "code",
   "execution_count": 20,
   "metadata": {},
   "outputs": [
    {
     "name": "stdout",
     "output_type": "stream",
     "text": [
      "Number of churned users: 52\n"
     ]
    }
   ],
   "source": [
    "# add column churn. churn =1 if for all rows with a given userId, if that user did at one time cancel\n",
    "userId_churned = df_clean.filter(df.page==\"Cancellation Confirmation\").select(\"userId\").dropDuplicates()\n",
    "userId_churned = [(row['userId']) for row in userId_churned.collect()]\n",
    "n_userId_churned = len(userId_churned)\n",
    "print(f\"Number of churned users: {n_userId_churned}\")\n",
    "df_clean = df_clean.withColumn(\"churn\", F.when(F.col(\"userId\").isin(userId_churned), 1).otherwise(0))"
   ]
  },
  {
   "cell_type": "code",
   "execution_count": 21,
   "metadata": {},
   "outputs": [
    {
     "name": "stdout",
     "output_type": "stream",
     "text": [
      "First timestamp in dataset: 2018-10-01 00:32:10\n",
      "Last timestamp in dataset: 2018-11-29 11:45:09\n",
      "Time duration of dataset: 59 days, 11:12:59\n"
     ]
    }
   ],
   "source": [
    "# anything special concerning the time period\n",
    "max_date = df_clean.where(df_clean[\"churn\"] == 1).agg({\"ts\": \"max\"}).collect()[0][0]\n",
    "min_date = df_clean.where(df_clean[\"churn\"] == 1).agg({\"ts\": \"min\"}).collect()[0][0]\n",
    "print(f\"First timestamp in dataset: {min_date}\")\n",
    "print(f\"Last timestamp in dataset: {max_date}\")\n",
    "print(f\"Time duration of dataset: {max_date-min_date}\")"
   ]
  },
  {
   "cell_type": "code",
   "execution_count": 22,
   "metadata": {},
   "outputs": [
    {
     "name": "stdout",
     "output_type": "stream",
     "text": [
      "Number of downgraded users: 154\n"
     ]
    }
   ],
   "source": [
    "# do the same for users who downgrade\n",
    "userId_downgrade = df_clean.filter(F.col(\"page\").isin([\"Submit Downgrade\", \"Downgrade\"])).select(\"userId\").dropDuplicates()\n",
    "userId_downgrade = [(row['userId']) for row in userId_downgrade.collect()]\n",
    "n_userId_downgrade = len(userId_downgrade)\n",
    "print(f\"Number of downgraded users: {n_userId_downgrade}\")\n",
    "df_clean = df_clean.withColumn(\"downgrade\", F.when(F.col(\"userId\").isin(userId_downgrade), 1).otherwise(0))"
   ]
  },
  {
   "cell_type": "code",
   "execution_count": 23,
   "metadata": {},
   "outputs": [
    {
     "name": "stdout",
     "output_type": "stream",
     "text": [
      "First timestamp in dataset: 2018-10-01 00:01:57\n",
      "Last timestamp in dataset: 2018-12-03 01:11:16\n",
      "Time duration of dataset: 63 days, 1:09:19\n"
     ]
    }
   ],
   "source": [
    "# anything special concerning the time period\n",
    "max_date = df_clean.where(df_clean[\"downgrade\"] == 1).agg({\"ts\": \"max\"}).collect()[0][0]\n",
    "min_date = df_clean.where(df_clean[\"downgrade\"] == 1).agg({\"ts\": \"min\"}).collect()[0][0]\n",
    "print(f\"First timestamp in dataset: {min_date}\")\n",
    "print(f\"Last timestamp in dataset: {max_date}\")\n",
    "print(f\"Time duration of dataset: {max_date-min_date}\")"
   ]
  },
  {
   "cell_type": "code",
   "execution_count": 24,
   "metadata": {},
   "outputs": [],
   "source": [
    "# # define a basic plot function for reuse\n",
    "# def plotAB(df, hew, x, rot=0, normalize = False):    \n",
    "#     # Group the data by x and y columns and calculate the count\n",
    "#     df_plot = df.dropDuplicates([\"userId\", hew]).groupby([hew, x]).count().sort(hew).toPandas()\n",
    "\n",
    "#     # Create the bar plot using seaborn\n",
    "#     sns.barplot(x=x, y='count', hue=hew, data=df_plot)\n",
    "#     plt.xticks(rotation=rot)\n",
    "\n",
    "#     # Add labels and title\n",
    "#     plt.xlabel(x.capitalize())\n",
    "#     plt.ylabel(\"Count\")\n",
    "#     plt.title(f\"Count by {x.capitalize()} and {hew.capitalize()}\")\n",
    "\n",
    "#     # Modify the legend\n",
    "#     plt.legend(title=hew.capitalize(), loc='best')\n",
    "\n",
    "#     # Show the plot\n",
    "#     plt.show()\n",
    "\n",
    "# define a basic plot function for reuse\n",
    "def plotAB(df, hew, x, rot=0, normalize=False):    \n",
    "    # Group the data by x and y columns and calculate the count\n",
    "    df_plot = df.dropDuplicates([\"userId\", hew]).groupby([hew, x]).count().sort(hew).toPandas()\n",
    "\n",
    "    # Create the bar plot using seaborn\n",
    "    sns.barplot(x=x, y='count', hue=hew, data=df_plot)\n",
    "    plt.xticks(rotation=rot)\n",
    "\n",
    "    # Add labels and title\n",
    "    plt.xlabel(x.capitalize())\n",
    "    plt.ylabel(\"Count\")\n",
    "    plt.title(f\"Count by {x.capitalize()} and {hew.capitalize()}\")\n",
    "\n",
    "    # Modify the legend\n",
    "    plt.legend(title=hew.capitalize(), loc='best')\n",
    "\n",
    "    # Add numbers on top of the bars\n",
    "    for p in plt.gca().patches:\n",
    "        plt.gca().annotate(f\"{p.get_height():.0f}\", (p.get_x() + p.get_width() / 2, p.get_height()), ha='center', va='bottom')\n",
    "\n",
    "    # Show the plot\n",
    "    plt.show()"
   ]
  },
  {
   "cell_type": "markdown",
   "metadata": {},
   "source": [
    "Distribution of UserIds across gender and churn"
   ]
  },
  {
   "cell_type": "code",
   "execution_count": 25,
   "metadata": {
    "scrolled": true
   },
   "outputs": [
    {
     "data": {
      "image/png": "[encoded data removed]",
      "text/plain": [
       "<matplotlib.figure.Figure at 0x7f7859a11ef0>"
      ]
     },
     "metadata": {
      "needs_background": "light"
     },
     "output_type": "display_data"
    }
   ],
   "source": [
    "plotAB(df_clean, 'churn', 'gender')"
   ]
  },
  {
   "cell_type": "markdown",
   "metadata": {},
   "source": [
    "Distribution of UserIds across gender and downgrade"
   ]
  },
  {
   "cell_type": "code",
   "execution_count": 26,
   "metadata": {},
   "outputs": [
    {
     "data": {
      "image/png": "[encoded data removed]",
      "text/plain": [
       "<matplotlib.figure.Figure at 0x7f789467eeb8>"
      ]
     },
     "metadata": {
      "needs_background": "light"
     },
     "output_type": "display_data"
    }
   ],
   "source": [
    "plotAB(df_clean, 'downgrade', 'gender')"
   ]
  },
  {
   "cell_type": "markdown",
   "metadata": {},
   "source": [
    "Distribution of UserIds across level and churn"
   ]
  },
  {
   "cell_type": "code",
   "execution_count": 27,
   "metadata": {},
   "outputs": [
    {
     "data": {
      "image/png": "[encoded data removed]",
      "text/plain": [
       "<matplotlib.figure.Figure at 0x7f7894523470>"
      ]
     },
     "metadata": {
      "needs_background": "light"
     },
     "output_type": "display_data"
    }
   ],
   "source": [
    "plotAB(df_clean, 'churn', 'level')"
   ]
  },
  {
   "cell_type": "markdown",
   "metadata": {},
   "source": [
    "Distribution of UserIds across level and downgrade"
   ]
  },
  {
   "cell_type": "code",
   "execution_count": 28,
   "metadata": {},
   "outputs": [
    {
     "data": {
      "image/png": "[encoded data removed]",
      "text/plain": [
       "<matplotlib.figure.Figure at 0x7f7894515ac8>"
      ]
     },
     "metadata": {
      "needs_background": "light"
     },
     "output_type": "display_data"
    }
   ],
   "source": [
    "plotAB(df_clean, 'downgrade', 'level')"
   ]
  },
  {
   "cell_type": "markdown",
   "metadata": {},
   "source": [
    "How many users who did downgrade did also churn?"
   ]
  },
  {
   "cell_type": "code",
   "execution_count": 29,
   "metadata": {},
   "outputs": [
    {
     "data": {
      "text/plain": [
       "35"
      ]
     },
     "execution_count": 29,
     "metadata": {},
     "output_type": "execute_result"
    }
   ],
   "source": [
    "df_clean.where((F.col(\"downgrade\")==1) & (F.col(\"churn\")==1)).select(\"userId\").distinct().count()"
   ]
  },
  {
   "cell_type": "markdown",
   "metadata": {},
   "source": [
    "How many users who did not downgrade did also not churn?"
   ]
  },
  {
   "cell_type": "code",
   "execution_count": 30,
   "metadata": {},
   "outputs": [
    {
     "data": {
      "text/plain": [
       "54"
      ]
     },
     "execution_count": 30,
     "metadata": {},
     "output_type": "execute_result"
    }
   ],
   "source": [
    "df_clean.where((F.col(\"downgrade\")==0) & (F.col(\"churn\")==0)).select(\"userId\").distinct().count()"
   ]
  },
  {
   "cell_type": "markdown",
   "metadata": {},
   "source": [
    "Relative distribution of page interactions across churn"
   ]
  },
  {
   "cell_type": "code",
   "execution_count": 31,
   "metadata": {},
   "outputs": [],
   "source": [
    "df_plot = df_clean.filter((F.col(\"churn\") == 1) & (F.col(\"page\") != \"NextSong\")).groupby([\"page\"]).count()\n",
    "df_plot = df_plot.withColumn(\"freq_churn\", F.col(\"count\") / n_userId_churned)\n",
    "\n",
    "df_tmp = df_clean.filter((F.col(\"churn\") == 0) & (F.col(\"page\") != \"NextSong\")).groupby([\"page\"]).count()\n",
    "df_tmp = df_tmp.withColumn(\"freq_no_churn\", F.col(\"count\") / (n_userId_all - n_userId_churned))\n",
    "\n",
    "df_plot = df_plot.join(df_tmp, \"page\", \"outer\").sort(\"freq_no_churn\").toPandas().fillna(0)"
   ]
  },
  {
   "cell_type": "code",
   "execution_count": 32,
   "metadata": {},
   "outputs": [
    {
     "data": {
      "image/png": "[encoded data removed]",
      "text/plain": [
       "<matplotlib.figure.Figure at 0x7f0a9b3d69b0>"
      ]
     },
     "metadata": {
      "needs_background": "light"
     },
     "output_type": "display_data"
    }
   ],
   "source": [
    "df_plot.plot(x='page', y=['freq_no_churn', 'freq_churn'], kind='bar', figsize=(12,8))\n",
    "plt.xlabel('Page')\n",
    "plt.ylabel('Frequency')\n",
    "plt.title('Page usage for chruned and not churned users')\n",
    "plt.legend(['0', '1'], title=\"Churn\", loc='best')\n",
    "plt.show()"
   ]
  },
  {
   "cell_type": "markdown",
   "metadata": {},
   "source": [
    "Number of songs in the dataset"
   ]
  },
  {
   "cell_type": "code",
   "execution_count": 33,
   "metadata": {},
   "outputs": [
    {
     "data": {
      "text/plain": [
       "58481"
      ]
     },
     "execution_count": 33,
     "metadata": {},
     "output_type": "execute_result"
    }
   ],
   "source": [
    "df_clean.select(\"song\").distinct().count()"
   ]
  },
  {
   "cell_type": "markdown",
   "metadata": {},
   "source": [
    "How many distinct songs does a churned or not churned user hear?"
   ]
  },
  {
   "cell_type": "code",
   "execution_count": 34,
   "metadata": {},
   "outputs": [],
   "source": [
    "df_plot = df_clean.groupBy('userId').agg(F.countDistinct('song').alias('distinct_songs_count')).withColumn(\"churn\", F.when(F.col(\"userId\").isin(userId_churned), 1).otherwise(0))"
   ]
  },
  {
   "cell_type": "code",
   "execution_count": 35,
   "metadata": {},
   "outputs": [
    {
     "data": {
      "image/png": "[encoded data removed]",
      "text/plain": [
       "<matplotlib.figure.Figure at 0x7f0a9b2c2438>"
      ]
     },
     "metadata": {
      "needs_background": "light"
     },
     "output_type": "display_data"
    }
   ],
   "source": [
    "data = df_plot.groupBy(\"churn\").agg(F.avg(\"distinct_songs_count\").alias('Average_no_songs')).toPandas()\n",
    "\n",
    "# Create the bar plot using seaborn\n",
    "sns.barplot(x=\"churn\", y='Average_no_songs', data=data)\n",
    "\n",
    "# Add labels and title\n",
    "plt.xlabel(\"Churn\")\n",
    "plt.ylabel(\"Average no of songs\")\n",
    "plt.title(f\"Average no of songs per group and user\")\n",
    "\n",
    "# Show the plot\n",
    "plt.show()"
   ]
  },
  {
   "cell_type": "markdown",
   "metadata": {},
   "source": [
    "# Feature Engineering\n",
    "Once you've familiarized yourself with the data, build out the features you find promising to train your model on. To work with the full dataset, you can follow the following steps.\n",
    "- Write a script to extract the necessary features from the smaller subset of data\n",
    "- Ensure that your script is scalable, using the best practices discussed in Lesson 3\n",
    "- Try your script on the full data set, debugging your script if necessary\n",
    "\n",
    "If you are working in the classroom workspace, you can just extract features based on the small subset of data contained here. Be sure to transfer over this work to the larger dataset when you work on your Spark cluster.\n",
    "\n",
    "Some features we would like to use:\n",
    "- Gender of User\n",
    "- Downgrade influence on Churn\n",
    "- Songs per User\n",
    "- Page Usage of User\n",
    "- Level of User\n",
    "\n",
    "First we will define the functions and test it on a subset of the data. Then we can just reuse the functions for the real show."
   ]
  },
  {
   "cell_type": "markdown",
   "metadata": {},
   "source": [
    "Lets start with some function to load, transform and clean the data:"
   ]
  },
  {
   "cell_type": "code",
   "execution_count": 144,
   "metadata": {},
   "outputs": [],
   "source": [
    "def load_data(spark_session, data_path):\n",
    "    \"\"\"\n",
    "        Loads a json file\n",
    "    \"\"\"\n",
    "    return spark_session.read.json(data_path)"
   ]
  },
  {
   "cell_type": "code",
   "execution_count": 145,
   "metadata": {},
   "outputs": [],
   "source": [
    "def sample_df(df, perc):\n",
    "    \"\"\"\n",
    "        randomly pick perc of the data\n",
    "    \"\"\"\n",
    "    return df.sample(fraction=perc/100, seed=42)"
   ]
  },
  {
   "cell_type": "code",
   "execution_count": 146,
   "metadata": {},
   "outputs": [],
   "source": [
    "def drop_na(df):\n",
    "    \"\"\"\n",
    "        Drop null values in gender, which is enough\n",
    "    \"\"\"\n",
    "    return df.dropna(how = \"any\", subset  = [\"gender\"])"
   ]
  },
  {
   "cell_type": "code",
   "execution_count": 147,
   "metadata": {},
   "outputs": [],
   "source": [
    "def convert_ts(df):\n",
    "    \"\"\"\n",
    "        Converts unix time to timestamp\n",
    "    \"\"\"\n",
    "    df_tmp = df.withColumn(\"ts\", F.to_timestamp(F.col(\"ts\")/1000))\\\n",
    "               .withColumn(\"registration\", F.to_timestamp(F.col(\"registration\")/1000))\\\n",
    "    \n",
    "    return df_tmp"
   ]
  },
  {
   "cell_type": "code",
   "execution_count": 148,
   "metadata": {},
   "outputs": [],
   "source": [
    "def convert_userid(df):\n",
    "    \"\"\"\n",
    "        Converts userid to integer\n",
    "    \"\"\"\n",
    "    return df.withColumn(\"userId\", F.col(\"userId\").cast('integer'))"
   ]
  },
  {
   "cell_type": "markdown",
   "metadata": {},
   "source": [
    "Now let's go on with the functions to extract features. We will condense the information always to a numerical value per unique userId:"
   ]
  },
  {
   "cell_type": "code",
   "execution_count": 149,
   "metadata": {},
   "outputs": [],
   "source": [
    "def set_churn_label(df):\n",
    "    \"\"\"\n",
    "        Return a dataframe with unique userIds and either 0 (service not churned) or 1 (service churned) in the column \"churn_service\"\n",
    "    \"\"\"\n",
    "    df_tmp = df.groupBy(\"userId\")\\\n",
    "                   .agg(F.max(F.when(F.col(\"page\") == \"Cancellation Confirmation\", 1).otherwise(0)).alias(\"churn_service\"))\n",
    "\n",
    "    return df_tmp"
   ]
  },
  {
   "cell_type": "code",
   "execution_count": 150,
   "metadata": {},
   "outputs": [],
   "source": [
    "def set_downgrade_label(df):\n",
    "    \"\"\"\n",
    "        Return a dataframe with unique userIds and either 0 (service not churned) or 1 (service churned) in the column \"churn_service\"\n",
    "    \"\"\"\n",
    "    df_tmp = df.groupBy(\"userId\")\\\n",
    "                   .agg(F.max(F.when(F.col(\"page\") == \"downgrade\", 1).otherwise(0)).alias(\"churn_paid\"))\n",
    "\n",
    "    return df_tmp"
   ]
  },
  {
   "cell_type": "code",
   "execution_count": 151,
   "metadata": {},
   "outputs": [],
   "source": [
    "def days_since_reg(df):\n",
    "    \"\"\"\n",
    "    Add column for expired days since registration per user\n",
    "    \"\"\"\n",
    "    df_tmp = df.groupBy(\"userId\") \\\n",
    "               .agg(\n",
    "                   (F.round((F.max(\"ts\") - F.first(\"registration\")) / 1000 / 60 / 60 / 24, 1)).alias(\"days_since_reg\")\n",
    "               )\n",
    "\n",
    "    return df_tmp"
   ]
  },
  {
   "cell_type": "code",
   "execution_count": 152,
   "metadata": {},
   "outputs": [],
   "source": [
    "def min_session_dur(df):\n",
    "    \"\"\"\n",
    "        Add column with avg session duration per user\n",
    "    \"\"\"\n",
    "    df_tmp = df.groupBy(\"userId\", \"sessionId\")\\\n",
    "               .agg(\n",
    "                   ((F.max(\"ts\") - F.min(\"ts\"))/1000/60).alias(\"delta_time\"))\\\n",
    "               .groupBy(\"userId\")\\\n",
    "               .agg(\n",
    "                   F.round(F.avg(\"delta_time\"),1).alias(\"min_session_dur\")\n",
    "    )\n",
    "    return df_tmp"
   ]
  },
  {
   "cell_type": "code",
   "execution_count": 153,
   "metadata": {},
   "outputs": [],
   "source": [
    "def cnt_songs_session(df):\n",
    "    \"\"\"\n",
    "        Add column with avg number of songs per session\n",
    "    \"\"\"\n",
    "    df_tmp = df.filter(F.col(\"page\") == \"NextSong\")\\\n",
    "               .groupBy(\"userId\", \"sessionId\")\\\n",
    "               .count()\\\n",
    "               .groupBy(\"userId\").agg(F.avg(\"count\").alias(\"cnt_songs_session\"))\n",
    "    \n",
    "    return df_tmp"
   ]
  },
  {
   "cell_type": "code",
   "execution_count": 154,
   "metadata": {},
   "outputs": [],
   "source": [
    "def gender(df):\n",
    "    \"\"\"\n",
    "        Add column with 0 if Male, 1 if Female\n",
    "    \"\"\"\n",
    "    df_tmp = df.select(\"userId\", \"gender\").dropDuplicates() \\\n",
    "               .withColumn(\"gender\", F.when(F.col(\"gender\") == \"M\", 0).otherwise(1))\n",
    "    \n",
    "    return df_tmp"
   ]
  },
  {
   "cell_type": "code",
   "execution_count": 155,
   "metadata": {},
   "outputs": [],
   "source": [
    "def level(df):\n",
    "    \"\"\"\n",
    "        Add column with 0 if free, 1 if paid user at the last timestamp\n",
    "    \"\"\"\n",
    "    window_spec = Window.partitionBy(\"userId\").orderBy(F.col(\"ts\").desc())\n",
    "    \n",
    "    df_tmp = df.withColumn(\"last_level\", F.row_number().over(window_spec)) \\\n",
    "               .filter(F.col(\"last_level\") == 1).select(\"userId\", \"level\") \\\n",
    "               .withColumn(\"level\", F.when(F.col(\"level\") == \"free\", 0).otherwise(1))    \n",
    "    \n",
    "    return df_tmp"
   ]
  },
  {
   "cell_type": "code",
   "execution_count": 156,
   "metadata": {},
   "outputs": [],
   "source": [
    "def page_freq(df):\n",
    "    \"\"\"\n",
    "        For every relevant page status return the frequency of visits, so the relative count\n",
    "    \"\"\"    \n",
    "    page_rel = [(row['page']) for row in df.select(\"page\").dropDuplicates().collect()]\n",
    "    page_rel.remove(\"Cancel\")\n",
    "    page_rel.remove(\"Cancellation Confirmation\")    \n",
    "    \n",
    "    df_tmp = df.filter(F.col(\"page\").isin(page_rel)) \\\n",
    "               .groupBy(\"userId\").pivot(\"page\", page_rel).agg(F.count(\"*\")) \\\n",
    "               .fillna(0)\n",
    "\n",
    "    df_tmp = df_tmp.withColumn(\"totalcount\", sum(df_tmp[col] for col in df_tmp.columns[1:]))    \n",
    "    \n",
    "    for col in df_tmp.columns[1:-1]:\n",
    "        df_tmp = df_tmp.withColumn(col, F.col(col) / F.col(\"totalcount\"))\n",
    "\n",
    "    # Drop the \"totalcount\" column\n",
    "    df_tmp = df_tmp.drop(\"totalcount\")    \n",
    "    \n",
    "    return df_tmp"
   ]
  },
  {
   "cell_type": "code",
   "execution_count": 157,
   "metadata": {},
   "outputs": [],
   "source": [
    "def prepare_df(df):\n",
    "    \"\"\"\n",
    "        Clean and format dataframe for further feature engineering\n",
    "    \"\"\"\n",
    "    df = drop_na(df)\n",
    "    df = convert_userid(df)\n",
    "    \n",
    "    return df"
   ]
  },
  {
   "cell_type": "code",
   "execution_count": 158,
   "metadata": {},
   "outputs": [],
   "source": [
    "def feature_df(df):\n",
    "    \"\"\"\n",
    "        Returns a df with unique userIds and columns that hold numeric values for the identified features\n",
    "    \"\"\"\n",
    "    churn_df = set_churn_label(df)\n",
    "    downgrade_df = set_downgrade_label(df)\n",
    "    days_since_reg_df = days_since_reg(df)\n",
    "    min_session_dur_df = min_session_dur(df)\n",
    "    cnt_songs_session_df = cnt_songs_session(df)\n",
    "    gender_df = gender(df)\n",
    "    level_df = level(df)\n",
    "    page_freq_df = page_freq(df)\n",
    "    \n",
    "    feature_df = churn_df.join(downgrade_df, \"userId\", \"inner\")\\\n",
    "                         .join(days_since_reg_df, \"userId\", \"inner\")\\\n",
    "                         .join(min_session_dur_df, \"userId\", \"inner\")\\\n",
    "                         .join(cnt_songs_session_df, \"userId\", \"inner\")\\\n",
    "                         .join(gender_df, \"userId\", \"inner\")\\\n",
    "                         .join(level_df, \"userId\", \"inner\")\\\n",
    "                         .join(page_freq_df, \"userId\", \"inner\")\n",
    "    \n",
    "    return feature_df"
   ]
  },
  {
   "cell_type": "code",
   "execution_count": 159,
   "metadata": {},
   "outputs": [],
   "source": [
    "# loead the json dataset\n",
    "df = load_data(spark, \"mini_sparkify_event_data.json\")"
   ]
  },
  {
   "cell_type": "code",
   "execution_count": 116,
   "metadata": {},
   "outputs": [],
   "source": [
    "# get a sample of the dataframe: (df, percent)\n",
    "df = sample_df(df, 5)"
   ]
  },
  {
   "cell_type": "code",
   "execution_count": 160,
   "metadata": {},
   "outputs": [],
   "source": [
    "# clean the data\n",
    "clean_df = prepare_df(df)"
   ]
  },
  {
   "cell_type": "code",
   "execution_count": 161,
   "metadata": {},
   "outputs": [],
   "source": [
    "final_df = final_df(clean_df)"
   ]
  },
  {
   "cell_type": "code",
   "execution_count": 163,
   "metadata": {},
   "outputs": [],
   "source": [
    "# replace \" \" with \"_\" in the column names for data storage\n",
    "new_columns = [F.col(column).alias(column.replace(\" \", \"_\")) for column in final_df.columns]\n",
    "final_df = feature_df.select(*new_columns)"
   ]
  },
  {
   "cell_type": "markdown",
   "metadata": {},
   "source": [
    "# Modeling\n",
    "Split the full dataset into train, test, and validation sets. Test out several of the machine learning methods you learned. Evaluate the accuracy of the various models, tuning parameters as necessary. Determine your winning model based on test accuracy and report results on the validation set. Since the churned users are a fairly small subset, I suggest using F1 score as the metric to optimize."
   ]
  },
  {
   "cell_type": "code",
   "execution_count": null,
   "metadata": {},
   "outputs": [],
   "source": [
    "# save the final dataframe to parquet format for easier usage\n",
    "final_df_single_partition.write.parquet(\"final_df_signle.parquet\")"
   ]
  },
  {
   "cell_type": "code",
   "execution_count": 4,
   "metadata": {},
   "outputs": [],
   "source": [
    "# read the parquet file\n",
    "final_df = spark.read.parquet(\"final_df_signle.parquet\")"
   ]
  },
  {
   "cell_type": "code",
   "execution_count": 5,
   "metadata": {},
   "outputs": [],
   "source": [
    "# convert all columns to float except, drop userid\n",
    "float_columns = [F.col(column).cast(\"float\").alias(column) for column in final_df.columns[1:]]\n",
    "final_df = final_df.select(*float_columns)"
   ]
  },
  {
   "cell_type": "code",
   "execution_count": 6,
   "metadata": {},
   "outputs": [],
   "source": [
    "# split into train, test and validation sets\n",
    "train, test, validation = final_df.randomSplit([0.6, 0.2, 0.2], seed=42)"
   ]
  },
  {
   "cell_type": "code",
   "execution_count": 7,
   "metadata": {},
   "outputs": [],
   "source": [
    "# Gather the columns into one with a VectorAssembler\n",
    "assembler = VectorAssembler(inputCols=final_df.columns[1:], outputCol=\"unscaled_features\")\n",
    "\n",
    "train_data = assembler.transform(train)\n",
    "test_data = assembler.transform(test)\n",
    "validation_data = assembler.transform(validation)"
   ]
  },
  {
   "cell_type": "code",
   "execution_count": 8,
   "metadata": {},
   "outputs": [],
   "source": [
    "# Standardize the data using only the train sample\n",
    "scaler = StandardScaler(\n",
    "    inputCol=\"unscaled_features\",\n",
    "    outputCol=\"scaled_features\",\n",
    "    withStd=True,\n",
    "    withMean=True\n",
    ")\n",
    "\n",
    "scalerModel = scaler.fit(train_data)\n",
    "train_scaled = scalerModel.transform(train_data)\n",
    "test_scaled = scalerModel.transform(test_data)\n",
    "validation_scaled = scalerModel.transform(validation_data)"
   ]
  },
  {
   "cell_type": "code",
   "execution_count": 9,
   "metadata": {},
   "outputs": [],
   "source": [
    "# Choose and implement several machine learning models.\n",
    "rf = RandomForestClassifier(labelCol=\"churn_service\", featuresCol=\"scaled_features\")\n",
    "lr = LogisticRegression(labelCol=\"churn_service\", featuresCol=\"scaled_features\")"
   ]
  },
  {
   "cell_type": "code",
   "execution_count": 10,
   "metadata": {},
   "outputs": [],
   "source": [
    "# Train the models using the train and test sets.\n",
    "\n",
    "# Random Forest\n",
    "rf_model = rf.fit(train_scaled)\n",
    "rf_predictions = rf_model.transform(test_scaled)\n",
    "\n",
    "# Logistic Regression\n",
    "lr_model = lr.fit(train_scaled)\n",
    "lr_predictions = lr_model.transform(test_scaled)"
   ]
  },
  {
   "cell_type": "code",
   "execution_count": 39,
   "metadata": {},
   "outputs": [],
   "source": [
    "#  evaluate models\n",
    "evaluator = MulticlassClassificationEvaluator(labelCol=\"churn_service\", predictionCol=\"prediction\", metricName=\"f1\")\n",
    "\n",
    "rf_f1_score = evaluator.evaluate(rf_predictions)\n",
    "lr_f1_score = evaluator.evaluate(lr_predictions)\n",
    "\n",
    "evaluator = MulticlassClassificationEvaluator(labelCol=\"churn_service\", predictionCol=\"prediction\", metricName=\"accuracy\")\n",
    "\n",
    "rf_acc_score = evaluator.evaluate(rf_predictions)\n",
    "lr_acc_score = evaluator.evaluate(lr_predictions)\n",
    "\n",
    "evaluator = MulticlassClassificationEvaluator(labelCol=\"churn_service\", predictionCol=\"prediction\", metricName=\"weightedRecall\")\n",
    "\n",
    "rf_rec_score = evaluator.evaluate(rf_predictions)\n",
    "lr_rec_score = evaluator.evaluate(lr_predictions)\n",
    "\n",
    "evaluator = MulticlassClassificationEvaluator(labelCol=\"churn_service\", predictionCol=\"prediction\", metricName=\"weightedPrecision\")\n",
    "\n",
    "rf_prec_score = evaluator.evaluate(rf_predictions)\n",
    "lr_prec_score = evaluator.evaluate(lr_predictions)"
   ]
  },
  {
   "cell_type": "code",
   "execution_count": 42,
   "metadata": {},
   "outputs": [
    {
     "data": {
      "image/png": "[encoded data removed]",
      "text/plain": [
       "<matplotlib.figure.Figure at 0x7f9f37bcaf60>"
      ]
     },
     "metadata": {
      "needs_background": "light"
     },
     "output_type": "display_data"
    }
   ],
   "source": [
    "# compare performance of LR and RF models\n",
    "# Define the models and their corresponding metrics\n",
    "models = ['Logistic Regression', 'Random Forest']\n",
    "metrics = ['F1 Score', 'Accuracy', 'Weighted Recall', 'Weighted Precision']\n",
    "\n",
    "# Define the metric values for each model\n",
    "lr_scores = [lr_f1_score, lr_acc_score, lr_rec_score, lr_prec_score]\n",
    "rf_scores = [rf_f1_score, rf_acc_score, rf_rec_score, rf_prec_score]\n",
    "\n",
    "# Set the width of each bar\n",
    "bar_width = 0.35\n",
    "\n",
    "# Set the positions of the bars on the x-axis\n",
    "r1 = np.arange(len(metrics))\n",
    "r2 = [x + bar_width for x in r1]\n",
    "\n",
    "# Create a grouped bar chart\n",
    "plt.figure(figsize=(10, 6))\n",
    "plt.bar(r1, lr_scores, color='blue', width=bar_width, label='Logistic Regression')\n",
    "plt.bar(r2, rf_scores, color='orange', width=bar_width, label='Random Forest')\n",
    "\n",
    "# Add labels and title\n",
    "plt.xlabel('Metrics')\n",
    "plt.ylabel('Score')\n",
    "plt.title('Comparison of Model Metrics')\n",
    "plt.xticks([r + bar_width/2 for r in range(len(metrics))], metrics)\n",
    "plt.legend()\n",
    "\n",
    "# Display the chart\n",
    "plt.show()"
   ]
  },
  {
   "cell_type": "code",
   "execution_count": 66,
   "metadata": {},
   "outputs": [],
   "source": [
    "# Tune the parameters of the rf model to improve its performance.\n",
    "paramGrid = (ParamGridBuilder()\n",
    "             .addGrid(rf.numTrees, [30, 50, 70])\n",
    "             .addGrid(rf.maxDepth, [15, 20, 25])\n",
    "             .build())\n",
    "\n",
    "crossval = CrossValidator(estimator=rf,\n",
    "                          estimatorParamMaps=paramGrid,\n",
    "                          evaluator=evaluator,\n",
    "                          numFolds=5)\n",
    "\n",
    "# Fit the models\n",
    "cv_model = crossval.fit(train_scaled)\n",
    "cv_predictions = cv_model.transform(test_scaled)\n",
    "cv_f1_score = evaluator.evaluate(cv_predictions)"
   ]
  },
  {
   "cell_type": "code",
   "execution_count": 67,
   "metadata": {},
   "outputs": [],
   "source": [
    "# save model locally for reuse\n",
    "cv_model.write().overwrite().save('cv_model.model')"
   ]
  },
  {
   "cell_type": "code",
   "execution_count": 68,
   "metadata": {},
   "outputs": [],
   "source": [
    "# load the model if necessary\n",
    "cv_model = cv_model.load('cv_model.model')"
   ]
  },
  {
   "cell_type": "code",
   "execution_count": 69,
   "metadata": {},
   "outputs": [
    {
     "name": "stdout",
     "output_type": "stream",
     "text": [
      "RandomForestClassificationModel (uid=RandomForestClassifier_fb5aaffa15a1) with 50 trees\n"
     ]
    }
   ],
   "source": [
    "# Select the winning model based on the F1 score.\n",
    "best_model = cv_model.bestModel\n",
    "print(best_model)"
   ]
  },
  {
   "cell_type": "code",
   "execution_count": 70,
   "metadata": {},
   "outputs": [],
   "source": [
    "# Calculate F1 score\n",
    "f1_score = evaluator.evaluate(cv_predictions)\n",
    "\n",
    "# Calculate accuracy\n",
    "accuracy = evaluator.evaluate(cv_predictions, {evaluator.metricName: \"accuracy\"})\n",
    "\n",
    "# Calculate weighted recall\n",
    "weighted_recall = evaluator.evaluate(cv_predictions, {evaluator.metricName: \"weightedRecall\"})\n",
    "\n",
    "# Calculate weighted precision\n",
    "weighted_precision = evaluator.evaluate(cv_predictions, {evaluator.metricName: \"weightedPrecision\"})"
   ]
  },
  {
   "cell_type": "code",
   "execution_count": 65,
   "metadata": {},
   "outputs": [
    {
     "data": {
      "image/png": "[encoded data removed]",
      "text/plain": [
       "<matplotlib.figure.Figure at 0x7f9f37ae7828>"
      ]
     },
     "metadata": {
      "needs_background": "light"
     },
     "output_type": "display_data"
    }
   ],
   "source": [
    "# compare performance of LR and RF models and optimal model\n",
    "# Define the models and their corresponding metrics\n",
    "models = ['Logistic Regression', 'Random Forest', 'Optimized Random Forest']\n",
    "metrics = ['F1 Score', 'Accuracy', 'Weighted Recall', 'Weighted Precision']\n",
    "\n",
    "# Define the metric values for each model\n",
    "lr_scores = [lr_f1_score, lr_acc_score, lr_rec_score, lr_prec_score]\n",
    "rf_scores = [rf_f1_score, rf_acc_score, rf_rec_score, rf_prec_score]\n",
    "rf_opt_scores = [f1_score, accuracy, weighted_recall, weighted_precision]\n",
    "\n",
    "# Set the width of each bar\n",
    "bar_width = 0.25\n",
    "\n",
    "# Set the positions of the bars on the x-axis\n",
    "r1 = np.arange(len(metrics))\n",
    "r2 = [x + bar_width for x in r1]\n",
    "r3 = [x + bar_width for x in r2]\n",
    "\n",
    "# Create a grouped bar chart\n",
    "plt.figure(figsize=(10, 6))\n",
    "plt.bar(r1, lr_scores, color='blue', width=bar_width, label='Logistic Regression')\n",
    "plt.bar(r2, rf_scores, color='orange', width=bar_width, label='Random Forest')\n",
    "plt.bar(r3, rf_opt_scores, color='green', width=bar_width, label='Optimized Random Forest')\n",
    "\n",
    "# Add labels and title\n",
    "plt.xlabel('Metrics')\n",
    "plt.ylabel('Score')\n",
    "plt.title('Comparison of Model Metrics')\n",
    "plt.xticks([r + bar_width for r in range(len(metrics))], metrics)\n",
    "plt.legend()\n",
    "\n",
    "# Display the chart\n",
    "plt.show()"
   ]
  },
  {
   "cell_type": "code",
   "execution_count": 21,
   "metadata": {},
   "outputs": [],
   "source": [
    "feature_names = final_df.columns[1:]"
   ]
  },
  {
   "cell_type": "code",
   "execution_count": 30,
   "metadata": {},
   "outputs": [
    {
     "name": "stdout",
     "output_type": "stream",
     "text": [
      "days_since_reg : 0.169\n",
      "Thumbs_Down : 0.109\n",
      "Add_Friend : 0.078\n",
      "NextSong : 0.066\n",
      "Home : 0.058\n",
      "cnt_songs_session : 0.055\n",
      "min_session_dur : 0.05\n",
      "Thumbs_Up : 0.05\n",
      "Downgrade : 0.044\n",
      "Add_to_Playlist : 0.043\n",
      "Roll_Advert : 0.042\n",
      "Submit_Downgrade : 0.039\n",
      "Logout : 0.037\n",
      "About : 0.035\n",
      "Settings : 0.033\n",
      "Help : 0.03\n",
      "Submit_Upgrade : 0.03\n",
      "Save_Settings : 0.015\n",
      "Error : 0.01\n",
      "Upgrade : 0.004\n",
      "gender : 0.001\n",
      "level : 0.001\n",
      "churn_paid : 0.0\n"
     ]
    }
   ],
   "source": [
    "# Which features have the highest importance with the RF model\n",
    "\n",
    "# Get feature importances from the RandomForestClassifier model\n",
    "feature_importances = rf_model.featureImportances.toArray().round(3)\n",
    "\n",
    "# Create a dictionary to store feature names and their importances\n",
    "feature_importance_dict = dict(zip(feature_names, feature_importances))\n",
    "\n",
    "# Sort the features by importance in descending order\n",
    "sorted_features = sorted(feature_importance_dict.items(), key=lambda x: x[1], reverse=True)\n",
    "\n",
    "# Print the sorted features and their importances\n",
    "for feature, importance in sorted_features:\n",
    "    print(feature, \":\", importance)"
   ]
  },
  {
   "cell_type": "code",
   "execution_count": 60,
   "metadata": {},
   "outputs": [
    {
     "data": {
      "image/png": "[encoded data removed]",
      "text/plain": [
       "<matplotlib.figure.Figure at 0x7f9f3789bda0>"
      ]
     },
     "metadata": {
      "needs_background": "light"
     },
     "output_type": "display_data"
    }
   ],
   "source": [
    "# Extract the labels and values\n",
    "labels, values = zip(*sorted_features)\n",
    "x_pos = np.arange(len(labels)) \n",
    "\n",
    "# Create a horizontal bar plot\n",
    "plt.figure(figsize=(10, 6))\n",
    "plt.barh(x_pos, values)\n",
    "plt.yticks(x_pos, labels) \n",
    "\n",
    "# Add labels and title\n",
    "plt.xlabel('Importance')\n",
    "plt.ylabel('Features')\n",
    "plt.title('Feature Importance')\n",
    "\n",
    "# Display the plot\n",
    "plt.show()"
   ]
  },
  {
   "cell_type": "markdown",
   "metadata": {},
   "source": [
    "**Conclusion**\n",
    "\n",
    "In this project, we aimed to predict customer churn for Sparkify, a music streaming service. We compared the performance and feature importance of two models, Logistic Regression (LR) and Random Forest (RF), to address this problem.\n",
    "\n",
    "After evaluating the models, we found that the Random Forest model outperformed the Logistic Regression model in terms of F1 score. The Random Forest model achieved an F1 score of 0.847, while the Logistic Regression model achieved an F1 score of 0.784. This indicates that the Random Forest model is better at predicting customer churn for Sparkify.\n",
    "\n",
    "When analyzing the feature importances, we observed that the important features differ between the LR and RF models. This can be attributed to the inherent differences in the algorithms and how they handle feature selection.\n",
    "\n",
    "In the LR model, the top five features with the highest importance were 'min_session_dur', 'level', 'Downgrade', 'Thumbs_Down', and 'Roll_Advert'. It's important to note that the LR model considers both positive and negative coefficients as important features. Therefore, the feature 'cnt_songs_session' with a negative coefficient (-1.649) is indeed considered more important than 'level' with a positive coefficient (1.165).\n",
    "\n",
    "On the other hand, the RF model identified 'days_since_reg', 'NextSong', 'Thumbs_Down', 'min_session_dur', and 'Roll_Advert' as the top five most important features. The RF model calculates feature importance based on the reduction in impurity achieved by each feature, which may result in different rankings compared to the LR model.\n",
    "\n",
    "The differences in feature importance highlight the distinct strengths and biases of the LR and RF models. While 'cnt_songs_session' may have a negative impact on churn prediction according to the LR model, the RF model may assign higher importance to other features that contribute more to the overall predictive power.\n",
    "\n",
    "To further improve the analysis, we could explore additional models or techniques, such as gradient boosting or neural networks, to see if they can achieve even better results. Additionally, gathering more data or incorporating more relevant features could potentially enhance the accuracy of the models.\n",
    "\n",
    "Overall, this project provides valuable insights into customer churn prediction for Sparkify and demonstrates the importance of considering different models and their respective feature importance calculations when analyzing complex datasets."
   ]
  },
  {
   "cell_type": "markdown",
   "metadata": {},
   "source": [
    "# Final Steps\n",
    "Clean up your code, adding comments and renaming variables to make the code easier to read and maintain. Refer to the Spark Project Overview page and Data Scientist Capstone Project Rubric to make sure you are including all components of the capstone project and meet all expectations. Remember, this includes thorough documentation in a README file in a Github repository, as well as a web app or blog post."
   ]
  },
  {
   "cell_type": "code",
   "execution_count": null,
   "metadata": {},
   "outputs": [],
   "source": []
  },
  {
   "cell_type": "code",
   "execution_count": null,
   "metadata": {},
   "outputs": [],
   "source": []
  }
 ],
 "metadata": {
  "kernelspec": {
   "display_name": "Python 3",
   "language": "python",
   "name": "python3"
  },
  "language_info": {
   "codemirror_mode": {
    "name": "ipython",
    "version": 3
   },
   "file_extension": ".py",
   "mimetype": "text/x-python",
   "name": "python",
   "nbconvert_exporter": "python",
   "pygments_lexer": "ipython3",
   "version": "3.6.3"
  }
 },
 "nbformat": 4,
 "nbformat_minor": 2
}
